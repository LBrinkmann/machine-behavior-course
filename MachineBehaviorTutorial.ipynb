{
  "nbformat": 4,
  "nbformat_minor": 0,
  "metadata": {
    "colab": {
      "provenance": []
    },
    "kernelspec": {
      "name": "python3",
      "display_name": "Python 3"
    },
    "language_info": {
      "name": "python"
    },
    "widgets": {
      "application/vnd.jupyter.widget-state+json": {
        "535f568d95ff4b0685595bc1309ec088": {
          "model_module": "@jupyter-widgets/controls",
          "model_name": "HBoxModel",
          "model_module_version": "1.5.0",
          "state": {
            "_dom_classes": [],
            "_model_module": "@jupyter-widgets/controls",
            "_model_module_version": "1.5.0",
            "_model_name": "HBoxModel",
            "_view_count": null,
            "_view_module": "@jupyter-widgets/controls",
            "_view_module_version": "1.5.0",
            "_view_name": "HBoxView",
            "box_style": "",
            "children": [
              "IPY_MODEL_f4dcaa5701e54d9f9938d398ee2d8457",
              "IPY_MODEL_5dbc318864334546a71cfae539944b1e",
              "IPY_MODEL_c4654fbb750c4c6080e182c468f9cf4f"
            ],
            "layout": "IPY_MODEL_a0914247cc384730a55c7eb400ab1d25"
          }
        },
        "f4dcaa5701e54d9f9938d398ee2d8457": {
          "model_module": "@jupyter-widgets/controls",
          "model_name": "HTMLModel",
          "model_module_version": "1.5.0",
          "state": {
            "_dom_classes": [],
            "_model_module": "@jupyter-widgets/controls",
            "_model_module_version": "1.5.0",
            "_model_name": "HTMLModel",
            "_view_count": null,
            "_view_module": "@jupyter-widgets/controls",
            "_view_module_version": "1.5.0",
            "_view_name": "HTMLView",
            "description": "",
            "description_tooltip": null,
            "layout": "IPY_MODEL_dd6b374166ec4d3ca25240ab3c6ba0da",
            "placeholder": "​",
            "style": "IPY_MODEL_e2454ace40914d8b80c22cf5aea44326",
            "value": "tokenizer_config.json: 100%"
          }
        },
        "5dbc318864334546a71cfae539944b1e": {
          "model_module": "@jupyter-widgets/controls",
          "model_name": "FloatProgressModel",
          "model_module_version": "1.5.0",
          "state": {
            "_dom_classes": [],
            "_model_module": "@jupyter-widgets/controls",
            "_model_module_version": "1.5.0",
            "_model_name": "FloatProgressModel",
            "_view_count": null,
            "_view_module": "@jupyter-widgets/controls",
            "_view_module_version": "1.5.0",
            "_view_name": "ProgressView",
            "bar_style": "success",
            "description": "",
            "description_tooltip": null,
            "layout": "IPY_MODEL_b98444316bec4871a50b89e099a63ac4",
            "max": 26,
            "min": 0,
            "orientation": "horizontal",
            "style": "IPY_MODEL_33ab06533345404dadab3977ae860cf3",
            "value": 26
          }
        },
        "c4654fbb750c4c6080e182c468f9cf4f": {
          "model_module": "@jupyter-widgets/controls",
          "model_name": "HTMLModel",
          "model_module_version": "1.5.0",
          "state": {
            "_dom_classes": [],
            "_model_module": "@jupyter-widgets/controls",
            "_model_module_version": "1.5.0",
            "_model_name": "HTMLModel",
            "_view_count": null,
            "_view_module": "@jupyter-widgets/controls",
            "_view_module_version": "1.5.0",
            "_view_name": "HTMLView",
            "description": "",
            "description_tooltip": null,
            "layout": "IPY_MODEL_cf5bb17c36ee43e1b43930b9dd90f590",
            "placeholder": "​",
            "style": "IPY_MODEL_33a79643a6094c7aab41fe7a9525945f",
            "value": " 26.0/26.0 [00:00&lt;00:00, 181B/s]"
          }
        },
        "a0914247cc384730a55c7eb400ab1d25": {
          "model_module": "@jupyter-widgets/base",
          "model_name": "LayoutModel",
          "model_module_version": "1.2.0",
          "state": {
            "_model_module": "@jupyter-widgets/base",
            "_model_module_version": "1.2.0",
            "_model_name": "LayoutModel",
            "_view_count": null,
            "_view_module": "@jupyter-widgets/base",
            "_view_module_version": "1.2.0",
            "_view_name": "LayoutView",
            "align_content": null,
            "align_items": null,
            "align_self": null,
            "border": null,
            "bottom": null,
            "display": null,
            "flex": null,
            "flex_flow": null,
            "grid_area": null,
            "grid_auto_columns": null,
            "grid_auto_flow": null,
            "grid_auto_rows": null,
            "grid_column": null,
            "grid_gap": null,
            "grid_row": null,
            "grid_template_areas": null,
            "grid_template_columns": null,
            "grid_template_rows": null,
            "height": null,
            "justify_content": null,
            "justify_items": null,
            "left": null,
            "margin": null,
            "max_height": null,
            "max_width": null,
            "min_height": null,
            "min_width": null,
            "object_fit": null,
            "object_position": null,
            "order": null,
            "overflow": null,
            "overflow_x": null,
            "overflow_y": null,
            "padding": null,
            "right": null,
            "top": null,
            "visibility": null,
            "width": null
          }
        },
        "dd6b374166ec4d3ca25240ab3c6ba0da": {
          "model_module": "@jupyter-widgets/base",
          "model_name": "LayoutModel",
          "model_module_version": "1.2.0",
          "state": {
            "_model_module": "@jupyter-widgets/base",
            "_model_module_version": "1.2.0",
            "_model_name": "LayoutModel",
            "_view_count": null,
            "_view_module": "@jupyter-widgets/base",
            "_view_module_version": "1.2.0",
            "_view_name": "LayoutView",
            "align_content": null,
            "align_items": null,
            "align_self": null,
            "border": null,
            "bottom": null,
            "display": null,
            "flex": null,
            "flex_flow": null,
            "grid_area": null,
            "grid_auto_columns": null,
            "grid_auto_flow": null,
            "grid_auto_rows": null,
            "grid_column": null,
            "grid_gap": null,
            "grid_row": null,
            "grid_template_areas": null,
            "grid_template_columns": null,
            "grid_template_rows": null,
            "height": null,
            "justify_content": null,
            "justify_items": null,
            "left": null,
            "margin": null,
            "max_height": null,
            "max_width": null,
            "min_height": null,
            "min_width": null,
            "object_fit": null,
            "object_position": null,
            "order": null,
            "overflow": null,
            "overflow_x": null,
            "overflow_y": null,
            "padding": null,
            "right": null,
            "top": null,
            "visibility": null,
            "width": null
          }
        },
        "e2454ace40914d8b80c22cf5aea44326": {
          "model_module": "@jupyter-widgets/controls",
          "model_name": "DescriptionStyleModel",
          "model_module_version": "1.5.0",
          "state": {
            "_model_module": "@jupyter-widgets/controls",
            "_model_module_version": "1.5.0",
            "_model_name": "DescriptionStyleModel",
            "_view_count": null,
            "_view_module": "@jupyter-widgets/base",
            "_view_module_version": "1.2.0",
            "_view_name": "StyleView",
            "description_width": ""
          }
        },
        "b98444316bec4871a50b89e099a63ac4": {
          "model_module": "@jupyter-widgets/base",
          "model_name": "LayoutModel",
          "model_module_version": "1.2.0",
          "state": {
            "_model_module": "@jupyter-widgets/base",
            "_model_module_version": "1.2.0",
            "_model_name": "LayoutModel",
            "_view_count": null,
            "_view_module": "@jupyter-widgets/base",
            "_view_module_version": "1.2.0",
            "_view_name": "LayoutView",
            "align_content": null,
            "align_items": null,
            "align_self": null,
            "border": null,
            "bottom": null,
            "display": null,
            "flex": null,
            "flex_flow": null,
            "grid_area": null,
            "grid_auto_columns": null,
            "grid_auto_flow": null,
            "grid_auto_rows": null,
            "grid_column": null,
            "grid_gap": null,
            "grid_row": null,
            "grid_template_areas": null,
            "grid_template_columns": null,
            "grid_template_rows": null,
            "height": null,
            "justify_content": null,
            "justify_items": null,
            "left": null,
            "margin": null,
            "max_height": null,
            "max_width": null,
            "min_height": null,
            "min_width": null,
            "object_fit": null,
            "object_position": null,
            "order": null,
            "overflow": null,
            "overflow_x": null,
            "overflow_y": null,
            "padding": null,
            "right": null,
            "top": null,
            "visibility": null,
            "width": null
          }
        },
        "33ab06533345404dadab3977ae860cf3": {
          "model_module": "@jupyter-widgets/controls",
          "model_name": "ProgressStyleModel",
          "model_module_version": "1.5.0",
          "state": {
            "_model_module": "@jupyter-widgets/controls",
            "_model_module_version": "1.5.0",
            "_model_name": "ProgressStyleModel",
            "_view_count": null,
            "_view_module": "@jupyter-widgets/base",
            "_view_module_version": "1.2.0",
            "_view_name": "StyleView",
            "bar_color": null,
            "description_width": ""
          }
        },
        "cf5bb17c36ee43e1b43930b9dd90f590": {
          "model_module": "@jupyter-widgets/base",
          "model_name": "LayoutModel",
          "model_module_version": "1.2.0",
          "state": {
            "_model_module": "@jupyter-widgets/base",
            "_model_module_version": "1.2.0",
            "_model_name": "LayoutModel",
            "_view_count": null,
            "_view_module": "@jupyter-widgets/base",
            "_view_module_version": "1.2.0",
            "_view_name": "LayoutView",
            "align_content": null,
            "align_items": null,
            "align_self": null,
            "border": null,
            "bottom": null,
            "display": null,
            "flex": null,
            "flex_flow": null,
            "grid_area": null,
            "grid_auto_columns": null,
            "grid_auto_flow": null,
            "grid_auto_rows": null,
            "grid_column": null,
            "grid_gap": null,
            "grid_row": null,
            "grid_template_areas": null,
            "grid_template_columns": null,
            "grid_template_rows": null,
            "height": null,
            "justify_content": null,
            "justify_items": null,
            "left": null,
            "margin": null,
            "max_height": null,
            "max_width": null,
            "min_height": null,
            "min_width": null,
            "object_fit": null,
            "object_position": null,
            "order": null,
            "overflow": null,
            "overflow_x": null,
            "overflow_y": null,
            "padding": null,
            "right": null,
            "top": null,
            "visibility": null,
            "width": null
          }
        },
        "33a79643a6094c7aab41fe7a9525945f": {
          "model_module": "@jupyter-widgets/controls",
          "model_name": "DescriptionStyleModel",
          "model_module_version": "1.5.0",
          "state": {
            "_model_module": "@jupyter-widgets/controls",
            "_model_module_version": "1.5.0",
            "_model_name": "DescriptionStyleModel",
            "_view_count": null,
            "_view_module": "@jupyter-widgets/base",
            "_view_module_version": "1.2.0",
            "_view_name": "StyleView",
            "description_width": ""
          }
        },
        "a4ad5ab3e8a3485eb7364eaeb0883635": {
          "model_module": "@jupyter-widgets/controls",
          "model_name": "HBoxModel",
          "model_module_version": "1.5.0",
          "state": {
            "_dom_classes": [],
            "_model_module": "@jupyter-widgets/controls",
            "_model_module_version": "1.5.0",
            "_model_name": "HBoxModel",
            "_view_count": null,
            "_view_module": "@jupyter-widgets/controls",
            "_view_module_version": "1.5.0",
            "_view_name": "HBoxView",
            "box_style": "",
            "children": [
              "IPY_MODEL_f0d5e09fa1df40a1a4196131c3614494",
              "IPY_MODEL_9288acfa3f5b409f9b4cc20540f76850",
              "IPY_MODEL_66bc130f47ac4936be5d447a1d56e28a"
            ],
            "layout": "IPY_MODEL_a38154deecbc4022af13ad11297382ed"
          }
        },
        "f0d5e09fa1df40a1a4196131c3614494": {
          "model_module": "@jupyter-widgets/controls",
          "model_name": "HTMLModel",
          "model_module_version": "1.5.0",
          "state": {
            "_dom_classes": [],
            "_model_module": "@jupyter-widgets/controls",
            "_model_module_version": "1.5.0",
            "_model_name": "HTMLModel",
            "_view_count": null,
            "_view_module": "@jupyter-widgets/controls",
            "_view_module_version": "1.5.0",
            "_view_name": "HTMLView",
            "description": "",
            "description_tooltip": null,
            "layout": "IPY_MODEL_bd9603837e9f423f8cf3b9fb4bd73b5b",
            "placeholder": "​",
            "style": "IPY_MODEL_8281e4d75f4047a0ab550d7db185bb6c",
            "value": "vocab.json: 100%"
          }
        },
        "9288acfa3f5b409f9b4cc20540f76850": {
          "model_module": "@jupyter-widgets/controls",
          "model_name": "FloatProgressModel",
          "model_module_version": "1.5.0",
          "state": {
            "_dom_classes": [],
            "_model_module": "@jupyter-widgets/controls",
            "_model_module_version": "1.5.0",
            "_model_name": "FloatProgressModel",
            "_view_count": null,
            "_view_module": "@jupyter-widgets/controls",
            "_view_module_version": "1.5.0",
            "_view_name": "ProgressView",
            "bar_style": "success",
            "description": "",
            "description_tooltip": null,
            "layout": "IPY_MODEL_021d5d922ea843a5892b3f4bcf78915c",
            "max": 1042301,
            "min": 0,
            "orientation": "horizontal",
            "style": "IPY_MODEL_5ba8f9504d66455fb48f51ef7acb985f",
            "value": 1042301
          }
        },
        "66bc130f47ac4936be5d447a1d56e28a": {
          "model_module": "@jupyter-widgets/controls",
          "model_name": "HTMLModel",
          "model_module_version": "1.5.0",
          "state": {
            "_dom_classes": [],
            "_model_module": "@jupyter-widgets/controls",
            "_model_module_version": "1.5.0",
            "_model_name": "HTMLModel",
            "_view_count": null,
            "_view_module": "@jupyter-widgets/controls",
            "_view_module_version": "1.5.0",
            "_view_name": "HTMLView",
            "description": "",
            "description_tooltip": null,
            "layout": "IPY_MODEL_29c36c916b1e4a7e9737cfefedf7155e",
            "placeholder": "​",
            "style": "IPY_MODEL_73cb3a8c07b84336a6996c69f542d31c",
            "value": " 1.04M/1.04M [00:00&lt;00:00, 3.07MB/s]"
          }
        },
        "a38154deecbc4022af13ad11297382ed": {
          "model_module": "@jupyter-widgets/base",
          "model_name": "LayoutModel",
          "model_module_version": "1.2.0",
          "state": {
            "_model_module": "@jupyter-widgets/base",
            "_model_module_version": "1.2.0",
            "_model_name": "LayoutModel",
            "_view_count": null,
            "_view_module": "@jupyter-widgets/base",
            "_view_module_version": "1.2.0",
            "_view_name": "LayoutView",
            "align_content": null,
            "align_items": null,
            "align_self": null,
            "border": null,
            "bottom": null,
            "display": null,
            "flex": null,
            "flex_flow": null,
            "grid_area": null,
            "grid_auto_columns": null,
            "grid_auto_flow": null,
            "grid_auto_rows": null,
            "grid_column": null,
            "grid_gap": null,
            "grid_row": null,
            "grid_template_areas": null,
            "grid_template_columns": null,
            "grid_template_rows": null,
            "height": null,
            "justify_content": null,
            "justify_items": null,
            "left": null,
            "margin": null,
            "max_height": null,
            "max_width": null,
            "min_height": null,
            "min_width": null,
            "object_fit": null,
            "object_position": null,
            "order": null,
            "overflow": null,
            "overflow_x": null,
            "overflow_y": null,
            "padding": null,
            "right": null,
            "top": null,
            "visibility": null,
            "width": null
          }
        },
        "bd9603837e9f423f8cf3b9fb4bd73b5b": {
          "model_module": "@jupyter-widgets/base",
          "model_name": "LayoutModel",
          "model_module_version": "1.2.0",
          "state": {
            "_model_module": "@jupyter-widgets/base",
            "_model_module_version": "1.2.0",
            "_model_name": "LayoutModel",
            "_view_count": null,
            "_view_module": "@jupyter-widgets/base",
            "_view_module_version": "1.2.0",
            "_view_name": "LayoutView",
            "align_content": null,
            "align_items": null,
            "align_self": null,
            "border": null,
            "bottom": null,
            "display": null,
            "flex": null,
            "flex_flow": null,
            "grid_area": null,
            "grid_auto_columns": null,
            "grid_auto_flow": null,
            "grid_auto_rows": null,
            "grid_column": null,
            "grid_gap": null,
            "grid_row": null,
            "grid_template_areas": null,
            "grid_template_columns": null,
            "grid_template_rows": null,
            "height": null,
            "justify_content": null,
            "justify_items": null,
            "left": null,
            "margin": null,
            "max_height": null,
            "max_width": null,
            "min_height": null,
            "min_width": null,
            "object_fit": null,
            "object_position": null,
            "order": null,
            "overflow": null,
            "overflow_x": null,
            "overflow_y": null,
            "padding": null,
            "right": null,
            "top": null,
            "visibility": null,
            "width": null
          }
        },
        "8281e4d75f4047a0ab550d7db185bb6c": {
          "model_module": "@jupyter-widgets/controls",
          "model_name": "DescriptionStyleModel",
          "model_module_version": "1.5.0",
          "state": {
            "_model_module": "@jupyter-widgets/controls",
            "_model_module_version": "1.5.0",
            "_model_name": "DescriptionStyleModel",
            "_view_count": null,
            "_view_module": "@jupyter-widgets/base",
            "_view_module_version": "1.2.0",
            "_view_name": "StyleView",
            "description_width": ""
          }
        },
        "021d5d922ea843a5892b3f4bcf78915c": {
          "model_module": "@jupyter-widgets/base",
          "model_name": "LayoutModel",
          "model_module_version": "1.2.0",
          "state": {
            "_model_module": "@jupyter-widgets/base",
            "_model_module_version": "1.2.0",
            "_model_name": "LayoutModel",
            "_view_count": null,
            "_view_module": "@jupyter-widgets/base",
            "_view_module_version": "1.2.0",
            "_view_name": "LayoutView",
            "align_content": null,
            "align_items": null,
            "align_self": null,
            "border": null,
            "bottom": null,
            "display": null,
            "flex": null,
            "flex_flow": null,
            "grid_area": null,
            "grid_auto_columns": null,
            "grid_auto_flow": null,
            "grid_auto_rows": null,
            "grid_column": null,
            "grid_gap": null,
            "grid_row": null,
            "grid_template_areas": null,
            "grid_template_columns": null,
            "grid_template_rows": null,
            "height": null,
            "justify_content": null,
            "justify_items": null,
            "left": null,
            "margin": null,
            "max_height": null,
            "max_width": null,
            "min_height": null,
            "min_width": null,
            "object_fit": null,
            "object_position": null,
            "order": null,
            "overflow": null,
            "overflow_x": null,
            "overflow_y": null,
            "padding": null,
            "right": null,
            "top": null,
            "visibility": null,
            "width": null
          }
        },
        "5ba8f9504d66455fb48f51ef7acb985f": {
          "model_module": "@jupyter-widgets/controls",
          "model_name": "ProgressStyleModel",
          "model_module_version": "1.5.0",
          "state": {
            "_model_module": "@jupyter-widgets/controls",
            "_model_module_version": "1.5.0",
            "_model_name": "ProgressStyleModel",
            "_view_count": null,
            "_view_module": "@jupyter-widgets/base",
            "_view_module_version": "1.2.0",
            "_view_name": "StyleView",
            "bar_color": null,
            "description_width": ""
          }
        },
        "29c36c916b1e4a7e9737cfefedf7155e": {
          "model_module": "@jupyter-widgets/base",
          "model_name": "LayoutModel",
          "model_module_version": "1.2.0",
          "state": {
            "_model_module": "@jupyter-widgets/base",
            "_model_module_version": "1.2.0",
            "_model_name": "LayoutModel",
            "_view_count": null,
            "_view_module": "@jupyter-widgets/base",
            "_view_module_version": "1.2.0",
            "_view_name": "LayoutView",
            "align_content": null,
            "align_items": null,
            "align_self": null,
            "border": null,
            "bottom": null,
            "display": null,
            "flex": null,
            "flex_flow": null,
            "grid_area": null,
            "grid_auto_columns": null,
            "grid_auto_flow": null,
            "grid_auto_rows": null,
            "grid_column": null,
            "grid_gap": null,
            "grid_row": null,
            "grid_template_areas": null,
            "grid_template_columns": null,
            "grid_template_rows": null,
            "height": null,
            "justify_content": null,
            "justify_items": null,
            "left": null,
            "margin": null,
            "max_height": null,
            "max_width": null,
            "min_height": null,
            "min_width": null,
            "object_fit": null,
            "object_position": null,
            "order": null,
            "overflow": null,
            "overflow_x": null,
            "overflow_y": null,
            "padding": null,
            "right": null,
            "top": null,
            "visibility": null,
            "width": null
          }
        },
        "73cb3a8c07b84336a6996c69f542d31c": {
          "model_module": "@jupyter-widgets/controls",
          "model_name": "DescriptionStyleModel",
          "model_module_version": "1.5.0",
          "state": {
            "_model_module": "@jupyter-widgets/controls",
            "_model_module_version": "1.5.0",
            "_model_name": "DescriptionStyleModel",
            "_view_count": null,
            "_view_module": "@jupyter-widgets/base",
            "_view_module_version": "1.2.0",
            "_view_name": "StyleView",
            "description_width": ""
          }
        },
        "85eed3ae8faa431cabcfba3231b68646": {
          "model_module": "@jupyter-widgets/controls",
          "model_name": "HBoxModel",
          "model_module_version": "1.5.0",
          "state": {
            "_dom_classes": [],
            "_model_module": "@jupyter-widgets/controls",
            "_model_module_version": "1.5.0",
            "_model_name": "HBoxModel",
            "_view_count": null,
            "_view_module": "@jupyter-widgets/controls",
            "_view_module_version": "1.5.0",
            "_view_name": "HBoxView",
            "box_style": "",
            "children": [
              "IPY_MODEL_d8625889c490443482a7aacdc4a2b341",
              "IPY_MODEL_69365325d558457a8b7cbd07c1db8a42",
              "IPY_MODEL_e578e6fd267f4c7cac7d4f6586d24743"
            ],
            "layout": "IPY_MODEL_8bde6c25e57e4404a477ff26ed055cdb"
          }
        },
        "d8625889c490443482a7aacdc4a2b341": {
          "model_module": "@jupyter-widgets/controls",
          "model_name": "HTMLModel",
          "model_module_version": "1.5.0",
          "state": {
            "_dom_classes": [],
            "_model_module": "@jupyter-widgets/controls",
            "_model_module_version": "1.5.0",
            "_model_name": "HTMLModel",
            "_view_count": null,
            "_view_module": "@jupyter-widgets/controls",
            "_view_module_version": "1.5.0",
            "_view_name": "HTMLView",
            "description": "",
            "description_tooltip": null,
            "layout": "IPY_MODEL_22e2c45d230e49d1ac98237d8e8d5966",
            "placeholder": "​",
            "style": "IPY_MODEL_8ac2940d49ee42b086b24ae08251d294",
            "value": "merges.txt: 100%"
          }
        },
        "69365325d558457a8b7cbd07c1db8a42": {
          "model_module": "@jupyter-widgets/controls",
          "model_name": "FloatProgressModel",
          "model_module_version": "1.5.0",
          "state": {
            "_dom_classes": [],
            "_model_module": "@jupyter-widgets/controls",
            "_model_module_version": "1.5.0",
            "_model_name": "FloatProgressModel",
            "_view_count": null,
            "_view_module": "@jupyter-widgets/controls",
            "_view_module_version": "1.5.0",
            "_view_name": "ProgressView",
            "bar_style": "success",
            "description": "",
            "description_tooltip": null,
            "layout": "IPY_MODEL_14beaf35ded84cf3bda5a5dba0126c4f",
            "max": 456318,
            "min": 0,
            "orientation": "horizontal",
            "style": "IPY_MODEL_38ecd2831d1149cc826bed72262035f8",
            "value": 456318
          }
        },
        "e578e6fd267f4c7cac7d4f6586d24743": {
          "model_module": "@jupyter-widgets/controls",
          "model_name": "HTMLModel",
          "model_module_version": "1.5.0",
          "state": {
            "_dom_classes": [],
            "_model_module": "@jupyter-widgets/controls",
            "_model_module_version": "1.5.0",
            "_model_name": "HTMLModel",
            "_view_count": null,
            "_view_module": "@jupyter-widgets/controls",
            "_view_module_version": "1.5.0",
            "_view_name": "HTMLView",
            "description": "",
            "description_tooltip": null,
            "layout": "IPY_MODEL_b022eabb46584f6c8bf0764ff63ac35f",
            "placeholder": "​",
            "style": "IPY_MODEL_91ddd700fe71403eb9973133293f26c2",
            "value": " 456k/456k [00:00&lt;00:00, 4.11MB/s]"
          }
        },
        "8bde6c25e57e4404a477ff26ed055cdb": {
          "model_module": "@jupyter-widgets/base",
          "model_name": "LayoutModel",
          "model_module_version": "1.2.0",
          "state": {
            "_model_module": "@jupyter-widgets/base",
            "_model_module_version": "1.2.0",
            "_model_name": "LayoutModel",
            "_view_count": null,
            "_view_module": "@jupyter-widgets/base",
            "_view_module_version": "1.2.0",
            "_view_name": "LayoutView",
            "align_content": null,
            "align_items": null,
            "align_self": null,
            "border": null,
            "bottom": null,
            "display": null,
            "flex": null,
            "flex_flow": null,
            "grid_area": null,
            "grid_auto_columns": null,
            "grid_auto_flow": null,
            "grid_auto_rows": null,
            "grid_column": null,
            "grid_gap": null,
            "grid_row": null,
            "grid_template_areas": null,
            "grid_template_columns": null,
            "grid_template_rows": null,
            "height": null,
            "justify_content": null,
            "justify_items": null,
            "left": null,
            "margin": null,
            "max_height": null,
            "max_width": null,
            "min_height": null,
            "min_width": null,
            "object_fit": null,
            "object_position": null,
            "order": null,
            "overflow": null,
            "overflow_x": null,
            "overflow_y": null,
            "padding": null,
            "right": null,
            "top": null,
            "visibility": null,
            "width": null
          }
        },
        "22e2c45d230e49d1ac98237d8e8d5966": {
          "model_module": "@jupyter-widgets/base",
          "model_name": "LayoutModel",
          "model_module_version": "1.2.0",
          "state": {
            "_model_module": "@jupyter-widgets/base",
            "_model_module_version": "1.2.0",
            "_model_name": "LayoutModel",
            "_view_count": null,
            "_view_module": "@jupyter-widgets/base",
            "_view_module_version": "1.2.0",
            "_view_name": "LayoutView",
            "align_content": null,
            "align_items": null,
            "align_self": null,
            "border": null,
            "bottom": null,
            "display": null,
            "flex": null,
            "flex_flow": null,
            "grid_area": null,
            "grid_auto_columns": null,
            "grid_auto_flow": null,
            "grid_auto_rows": null,
            "grid_column": null,
            "grid_gap": null,
            "grid_row": null,
            "grid_template_areas": null,
            "grid_template_columns": null,
            "grid_template_rows": null,
            "height": null,
            "justify_content": null,
            "justify_items": null,
            "left": null,
            "margin": null,
            "max_height": null,
            "max_width": null,
            "min_height": null,
            "min_width": null,
            "object_fit": null,
            "object_position": null,
            "order": null,
            "overflow": null,
            "overflow_x": null,
            "overflow_y": null,
            "padding": null,
            "right": null,
            "top": null,
            "visibility": null,
            "width": null
          }
        },
        "8ac2940d49ee42b086b24ae08251d294": {
          "model_module": "@jupyter-widgets/controls",
          "model_name": "DescriptionStyleModel",
          "model_module_version": "1.5.0",
          "state": {
            "_model_module": "@jupyter-widgets/controls",
            "_model_module_version": "1.5.0",
            "_model_name": "DescriptionStyleModel",
            "_view_count": null,
            "_view_module": "@jupyter-widgets/base",
            "_view_module_version": "1.2.0",
            "_view_name": "StyleView",
            "description_width": ""
          }
        },
        "14beaf35ded84cf3bda5a5dba0126c4f": {
          "model_module": "@jupyter-widgets/base",
          "model_name": "LayoutModel",
          "model_module_version": "1.2.0",
          "state": {
            "_model_module": "@jupyter-widgets/base",
            "_model_module_version": "1.2.0",
            "_model_name": "LayoutModel",
            "_view_count": null,
            "_view_module": "@jupyter-widgets/base",
            "_view_module_version": "1.2.0",
            "_view_name": "LayoutView",
            "align_content": null,
            "align_items": null,
            "align_self": null,
            "border": null,
            "bottom": null,
            "display": null,
            "flex": null,
            "flex_flow": null,
            "grid_area": null,
            "grid_auto_columns": null,
            "grid_auto_flow": null,
            "grid_auto_rows": null,
            "grid_column": null,
            "grid_gap": null,
            "grid_row": null,
            "grid_template_areas": null,
            "grid_template_columns": null,
            "grid_template_rows": null,
            "height": null,
            "justify_content": null,
            "justify_items": null,
            "left": null,
            "margin": null,
            "max_height": null,
            "max_width": null,
            "min_height": null,
            "min_width": null,
            "object_fit": null,
            "object_position": null,
            "order": null,
            "overflow": null,
            "overflow_x": null,
            "overflow_y": null,
            "padding": null,
            "right": null,
            "top": null,
            "visibility": null,
            "width": null
          }
        },
        "38ecd2831d1149cc826bed72262035f8": {
          "model_module": "@jupyter-widgets/controls",
          "model_name": "ProgressStyleModel",
          "model_module_version": "1.5.0",
          "state": {
            "_model_module": "@jupyter-widgets/controls",
            "_model_module_version": "1.5.0",
            "_model_name": "ProgressStyleModel",
            "_view_count": null,
            "_view_module": "@jupyter-widgets/base",
            "_view_module_version": "1.2.0",
            "_view_name": "StyleView",
            "bar_color": null,
            "description_width": ""
          }
        },
        "b022eabb46584f6c8bf0764ff63ac35f": {
          "model_module": "@jupyter-widgets/base",
          "model_name": "LayoutModel",
          "model_module_version": "1.2.0",
          "state": {
            "_model_module": "@jupyter-widgets/base",
            "_model_module_version": "1.2.0",
            "_model_name": "LayoutModel",
            "_view_count": null,
            "_view_module": "@jupyter-widgets/base",
            "_view_module_version": "1.2.0",
            "_view_name": "LayoutView",
            "align_content": null,
            "align_items": null,
            "align_self": null,
            "border": null,
            "bottom": null,
            "display": null,
            "flex": null,
            "flex_flow": null,
            "grid_area": null,
            "grid_auto_columns": null,
            "grid_auto_flow": null,
            "grid_auto_rows": null,
            "grid_column": null,
            "grid_gap": null,
            "grid_row": null,
            "grid_template_areas": null,
            "grid_template_columns": null,
            "grid_template_rows": null,
            "height": null,
            "justify_content": null,
            "justify_items": null,
            "left": null,
            "margin": null,
            "max_height": null,
            "max_width": null,
            "min_height": null,
            "min_width": null,
            "object_fit": null,
            "object_position": null,
            "order": null,
            "overflow": null,
            "overflow_x": null,
            "overflow_y": null,
            "padding": null,
            "right": null,
            "top": null,
            "visibility": null,
            "width": null
          }
        },
        "91ddd700fe71403eb9973133293f26c2": {
          "model_module": "@jupyter-widgets/controls",
          "model_name": "DescriptionStyleModel",
          "model_module_version": "1.5.0",
          "state": {
            "_model_module": "@jupyter-widgets/controls",
            "_model_module_version": "1.5.0",
            "_model_name": "DescriptionStyleModel",
            "_view_count": null,
            "_view_module": "@jupyter-widgets/base",
            "_view_module_version": "1.2.0",
            "_view_name": "StyleView",
            "description_width": ""
          }
        },
        "cc5dd49c861f4620bf84f3f9015c6d75": {
          "model_module": "@jupyter-widgets/controls",
          "model_name": "HBoxModel",
          "model_module_version": "1.5.0",
          "state": {
            "_dom_classes": [],
            "_model_module": "@jupyter-widgets/controls",
            "_model_module_version": "1.5.0",
            "_model_name": "HBoxModel",
            "_view_count": null,
            "_view_module": "@jupyter-widgets/controls",
            "_view_module_version": "1.5.0",
            "_view_name": "HBoxView",
            "box_style": "",
            "children": [
              "IPY_MODEL_a41604ea80204a988b3b008342fa0e3f",
              "IPY_MODEL_774f608099674f3fa0600a8e961b1f1c",
              "IPY_MODEL_c138bbe376b14a36874d73a40b8c34a2"
            ],
            "layout": "IPY_MODEL_f03fa172c6b548a1846fcf88baab0afc"
          }
        },
        "a41604ea80204a988b3b008342fa0e3f": {
          "model_module": "@jupyter-widgets/controls",
          "model_name": "HTMLModel",
          "model_module_version": "1.5.0",
          "state": {
            "_dom_classes": [],
            "_model_module": "@jupyter-widgets/controls",
            "_model_module_version": "1.5.0",
            "_model_name": "HTMLModel",
            "_view_count": null,
            "_view_module": "@jupyter-widgets/controls",
            "_view_module_version": "1.5.0",
            "_view_name": "HTMLView",
            "description": "",
            "description_tooltip": null,
            "layout": "IPY_MODEL_9df212e680f64f4e8cc2bb24aea8f63d",
            "placeholder": "​",
            "style": "IPY_MODEL_42b7d999593545289b32cb4b1744c40f",
            "value": "tokenizer.json: 100%"
          }
        },
        "774f608099674f3fa0600a8e961b1f1c": {
          "model_module": "@jupyter-widgets/controls",
          "model_name": "FloatProgressModel",
          "model_module_version": "1.5.0",
          "state": {
            "_dom_classes": [],
            "_model_module": "@jupyter-widgets/controls",
            "_model_module_version": "1.5.0",
            "_model_name": "FloatProgressModel",
            "_view_count": null,
            "_view_module": "@jupyter-widgets/controls",
            "_view_module_version": "1.5.0",
            "_view_name": "ProgressView",
            "bar_style": "success",
            "description": "",
            "description_tooltip": null,
            "layout": "IPY_MODEL_1ee213fe1184401d9a1d4b2d8e966c26",
            "max": 1355256,
            "min": 0,
            "orientation": "horizontal",
            "style": "IPY_MODEL_7d917bc0647c439c90b2f3d3dbc52229",
            "value": 1355256
          }
        },
        "c138bbe376b14a36874d73a40b8c34a2": {
          "model_module": "@jupyter-widgets/controls",
          "model_name": "HTMLModel",
          "model_module_version": "1.5.0",
          "state": {
            "_dom_classes": [],
            "_model_module": "@jupyter-widgets/controls",
            "_model_module_version": "1.5.0",
            "_model_name": "HTMLModel",
            "_view_count": null,
            "_view_module": "@jupyter-widgets/controls",
            "_view_module_version": "1.5.0",
            "_view_name": "HTMLView",
            "description": "",
            "description_tooltip": null,
            "layout": "IPY_MODEL_e669641438e3445b9fdbc705b00b8a92",
            "placeholder": "​",
            "style": "IPY_MODEL_60a798268c8540d982a7c30a3d7b16d1",
            "value": " 1.36M/1.36M [00:00&lt;00:00, 8.47MB/s]"
          }
        },
        "f03fa172c6b548a1846fcf88baab0afc": {
          "model_module": "@jupyter-widgets/base",
          "model_name": "LayoutModel",
          "model_module_version": "1.2.0",
          "state": {
            "_model_module": "@jupyter-widgets/base",
            "_model_module_version": "1.2.0",
            "_model_name": "LayoutModel",
            "_view_count": null,
            "_view_module": "@jupyter-widgets/base",
            "_view_module_version": "1.2.0",
            "_view_name": "LayoutView",
            "align_content": null,
            "align_items": null,
            "align_self": null,
            "border": null,
            "bottom": null,
            "display": null,
            "flex": null,
            "flex_flow": null,
            "grid_area": null,
            "grid_auto_columns": null,
            "grid_auto_flow": null,
            "grid_auto_rows": null,
            "grid_column": null,
            "grid_gap": null,
            "grid_row": null,
            "grid_template_areas": null,
            "grid_template_columns": null,
            "grid_template_rows": null,
            "height": null,
            "justify_content": null,
            "justify_items": null,
            "left": null,
            "margin": null,
            "max_height": null,
            "max_width": null,
            "min_height": null,
            "min_width": null,
            "object_fit": null,
            "object_position": null,
            "order": null,
            "overflow": null,
            "overflow_x": null,
            "overflow_y": null,
            "padding": null,
            "right": null,
            "top": null,
            "visibility": null,
            "width": null
          }
        },
        "9df212e680f64f4e8cc2bb24aea8f63d": {
          "model_module": "@jupyter-widgets/base",
          "model_name": "LayoutModel",
          "model_module_version": "1.2.0",
          "state": {
            "_model_module": "@jupyter-widgets/base",
            "_model_module_version": "1.2.0",
            "_model_name": "LayoutModel",
            "_view_count": null,
            "_view_module": "@jupyter-widgets/base",
            "_view_module_version": "1.2.0",
            "_view_name": "LayoutView",
            "align_content": null,
            "align_items": null,
            "align_self": null,
            "border": null,
            "bottom": null,
            "display": null,
            "flex": null,
            "flex_flow": null,
            "grid_area": null,
            "grid_auto_columns": null,
            "grid_auto_flow": null,
            "grid_auto_rows": null,
            "grid_column": null,
            "grid_gap": null,
            "grid_row": null,
            "grid_template_areas": null,
            "grid_template_columns": null,
            "grid_template_rows": null,
            "height": null,
            "justify_content": null,
            "justify_items": null,
            "left": null,
            "margin": null,
            "max_height": null,
            "max_width": null,
            "min_height": null,
            "min_width": null,
            "object_fit": null,
            "object_position": null,
            "order": null,
            "overflow": null,
            "overflow_x": null,
            "overflow_y": null,
            "padding": null,
            "right": null,
            "top": null,
            "visibility": null,
            "width": null
          }
        },
        "42b7d999593545289b32cb4b1744c40f": {
          "model_module": "@jupyter-widgets/controls",
          "model_name": "DescriptionStyleModel",
          "model_module_version": "1.5.0",
          "state": {
            "_model_module": "@jupyter-widgets/controls",
            "_model_module_version": "1.5.0",
            "_model_name": "DescriptionStyleModel",
            "_view_count": null,
            "_view_module": "@jupyter-widgets/base",
            "_view_module_version": "1.2.0",
            "_view_name": "StyleView",
            "description_width": ""
          }
        },
        "1ee213fe1184401d9a1d4b2d8e966c26": {
          "model_module": "@jupyter-widgets/base",
          "model_name": "LayoutModel",
          "model_module_version": "1.2.0",
          "state": {
            "_model_module": "@jupyter-widgets/base",
            "_model_module_version": "1.2.0",
            "_model_name": "LayoutModel",
            "_view_count": null,
            "_view_module": "@jupyter-widgets/base",
            "_view_module_version": "1.2.0",
            "_view_name": "LayoutView",
            "align_content": null,
            "align_items": null,
            "align_self": null,
            "border": null,
            "bottom": null,
            "display": null,
            "flex": null,
            "flex_flow": null,
            "grid_area": null,
            "grid_auto_columns": null,
            "grid_auto_flow": null,
            "grid_auto_rows": null,
            "grid_column": null,
            "grid_gap": null,
            "grid_row": null,
            "grid_template_areas": null,
            "grid_template_columns": null,
            "grid_template_rows": null,
            "height": null,
            "justify_content": null,
            "justify_items": null,
            "left": null,
            "margin": null,
            "max_height": null,
            "max_width": null,
            "min_height": null,
            "min_width": null,
            "object_fit": null,
            "object_position": null,
            "order": null,
            "overflow": null,
            "overflow_x": null,
            "overflow_y": null,
            "padding": null,
            "right": null,
            "top": null,
            "visibility": null,
            "width": null
          }
        },
        "7d917bc0647c439c90b2f3d3dbc52229": {
          "model_module": "@jupyter-widgets/controls",
          "model_name": "ProgressStyleModel",
          "model_module_version": "1.5.0",
          "state": {
            "_model_module": "@jupyter-widgets/controls",
            "_model_module_version": "1.5.0",
            "_model_name": "ProgressStyleModel",
            "_view_count": null,
            "_view_module": "@jupyter-widgets/base",
            "_view_module_version": "1.2.0",
            "_view_name": "StyleView",
            "bar_color": null,
            "description_width": ""
          }
        },
        "e669641438e3445b9fdbc705b00b8a92": {
          "model_module": "@jupyter-widgets/base",
          "model_name": "LayoutModel",
          "model_module_version": "1.2.0",
          "state": {
            "_model_module": "@jupyter-widgets/base",
            "_model_module_version": "1.2.0",
            "_model_name": "LayoutModel",
            "_view_count": null,
            "_view_module": "@jupyter-widgets/base",
            "_view_module_version": "1.2.0",
            "_view_name": "LayoutView",
            "align_content": null,
            "align_items": null,
            "align_self": null,
            "border": null,
            "bottom": null,
            "display": null,
            "flex": null,
            "flex_flow": null,
            "grid_area": null,
            "grid_auto_columns": null,
            "grid_auto_flow": null,
            "grid_auto_rows": null,
            "grid_column": null,
            "grid_gap": null,
            "grid_row": null,
            "grid_template_areas": null,
            "grid_template_columns": null,
            "grid_template_rows": null,
            "height": null,
            "justify_content": null,
            "justify_items": null,
            "left": null,
            "margin": null,
            "max_height": null,
            "max_width": null,
            "min_height": null,
            "min_width": null,
            "object_fit": null,
            "object_position": null,
            "order": null,
            "overflow": null,
            "overflow_x": null,
            "overflow_y": null,
            "padding": null,
            "right": null,
            "top": null,
            "visibility": null,
            "width": null
          }
        },
        "60a798268c8540d982a7c30a3d7b16d1": {
          "model_module": "@jupyter-widgets/controls",
          "model_name": "DescriptionStyleModel",
          "model_module_version": "1.5.0",
          "state": {
            "_model_module": "@jupyter-widgets/controls",
            "_model_module_version": "1.5.0",
            "_model_name": "DescriptionStyleModel",
            "_view_count": null,
            "_view_module": "@jupyter-widgets/base",
            "_view_module_version": "1.2.0",
            "_view_name": "StyleView",
            "description_width": ""
          }
        },
        "aab94491fe504a359b46943d31e29dba": {
          "model_module": "@jupyter-widgets/controls",
          "model_name": "HBoxModel",
          "model_module_version": "1.5.0",
          "state": {
            "_dom_classes": [],
            "_model_module": "@jupyter-widgets/controls",
            "_model_module_version": "1.5.0",
            "_model_name": "HBoxModel",
            "_view_count": null,
            "_view_module": "@jupyter-widgets/controls",
            "_view_module_version": "1.5.0",
            "_view_name": "HBoxView",
            "box_style": "",
            "children": [
              "IPY_MODEL_7d7e99eeb64b4ee7889ffbafab1227a4",
              "IPY_MODEL_ca3b2b680c054ab0b81ee5cb6962f11e",
              "IPY_MODEL_85657cd1055547b19b91e82584cdb4ac"
            ],
            "layout": "IPY_MODEL_0ae1cabf006743f6868b58130c96676f"
          }
        },
        "7d7e99eeb64b4ee7889ffbafab1227a4": {
          "model_module": "@jupyter-widgets/controls",
          "model_name": "HTMLModel",
          "model_module_version": "1.5.0",
          "state": {
            "_dom_classes": [],
            "_model_module": "@jupyter-widgets/controls",
            "_model_module_version": "1.5.0",
            "_model_name": "HTMLModel",
            "_view_count": null,
            "_view_module": "@jupyter-widgets/controls",
            "_view_module_version": "1.5.0",
            "_view_name": "HTMLView",
            "description": "",
            "description_tooltip": null,
            "layout": "IPY_MODEL_0afbdd72b3784d28a8d39945bc80744f",
            "placeholder": "​",
            "style": "IPY_MODEL_cc9fdb84775f45fba1cbab460602f4cc",
            "value": "config.json: 100%"
          }
        },
        "ca3b2b680c054ab0b81ee5cb6962f11e": {
          "model_module": "@jupyter-widgets/controls",
          "model_name": "FloatProgressModel",
          "model_module_version": "1.5.0",
          "state": {
            "_dom_classes": [],
            "_model_module": "@jupyter-widgets/controls",
            "_model_module_version": "1.5.0",
            "_model_name": "FloatProgressModel",
            "_view_count": null,
            "_view_module": "@jupyter-widgets/controls",
            "_view_module_version": "1.5.0",
            "_view_name": "ProgressView",
            "bar_style": "success",
            "description": "",
            "description_tooltip": null,
            "layout": "IPY_MODEL_ab2acbafeaa744a4bd3f9248d4497d67",
            "max": 665,
            "min": 0,
            "orientation": "horizontal",
            "style": "IPY_MODEL_b5c6271ca2d94f0898cab3b2080af210",
            "value": 665
          }
        },
        "85657cd1055547b19b91e82584cdb4ac": {
          "model_module": "@jupyter-widgets/controls",
          "model_name": "HTMLModel",
          "model_module_version": "1.5.0",
          "state": {
            "_dom_classes": [],
            "_model_module": "@jupyter-widgets/controls",
            "_model_module_version": "1.5.0",
            "_model_name": "HTMLModel",
            "_view_count": null,
            "_view_module": "@jupyter-widgets/controls",
            "_view_module_version": "1.5.0",
            "_view_name": "HTMLView",
            "description": "",
            "description_tooltip": null,
            "layout": "IPY_MODEL_8f130ec4c5434526bb792b36afd0d5fa",
            "placeholder": "​",
            "style": "IPY_MODEL_b40388cc58a242988871ae3911e626ed",
            "value": " 665/665 [00:00&lt;00:00, 4.50kB/s]"
          }
        },
        "0ae1cabf006743f6868b58130c96676f": {
          "model_module": "@jupyter-widgets/base",
          "model_name": "LayoutModel",
          "model_module_version": "1.2.0",
          "state": {
            "_model_module": "@jupyter-widgets/base",
            "_model_module_version": "1.2.0",
            "_model_name": "LayoutModel",
            "_view_count": null,
            "_view_module": "@jupyter-widgets/base",
            "_view_module_version": "1.2.0",
            "_view_name": "LayoutView",
            "align_content": null,
            "align_items": null,
            "align_self": null,
            "border": null,
            "bottom": null,
            "display": null,
            "flex": null,
            "flex_flow": null,
            "grid_area": null,
            "grid_auto_columns": null,
            "grid_auto_flow": null,
            "grid_auto_rows": null,
            "grid_column": null,
            "grid_gap": null,
            "grid_row": null,
            "grid_template_areas": null,
            "grid_template_columns": null,
            "grid_template_rows": null,
            "height": null,
            "justify_content": null,
            "justify_items": null,
            "left": null,
            "margin": null,
            "max_height": null,
            "max_width": null,
            "min_height": null,
            "min_width": null,
            "object_fit": null,
            "object_position": null,
            "order": null,
            "overflow": null,
            "overflow_x": null,
            "overflow_y": null,
            "padding": null,
            "right": null,
            "top": null,
            "visibility": null,
            "width": null
          }
        },
        "0afbdd72b3784d28a8d39945bc80744f": {
          "model_module": "@jupyter-widgets/base",
          "model_name": "LayoutModel",
          "model_module_version": "1.2.0",
          "state": {
            "_model_module": "@jupyter-widgets/base",
            "_model_module_version": "1.2.0",
            "_model_name": "LayoutModel",
            "_view_count": null,
            "_view_module": "@jupyter-widgets/base",
            "_view_module_version": "1.2.0",
            "_view_name": "LayoutView",
            "align_content": null,
            "align_items": null,
            "align_self": null,
            "border": null,
            "bottom": null,
            "display": null,
            "flex": null,
            "flex_flow": null,
            "grid_area": null,
            "grid_auto_columns": null,
            "grid_auto_flow": null,
            "grid_auto_rows": null,
            "grid_column": null,
            "grid_gap": null,
            "grid_row": null,
            "grid_template_areas": null,
            "grid_template_columns": null,
            "grid_template_rows": null,
            "height": null,
            "justify_content": null,
            "justify_items": null,
            "left": null,
            "margin": null,
            "max_height": null,
            "max_width": null,
            "min_height": null,
            "min_width": null,
            "object_fit": null,
            "object_position": null,
            "order": null,
            "overflow": null,
            "overflow_x": null,
            "overflow_y": null,
            "padding": null,
            "right": null,
            "top": null,
            "visibility": null,
            "width": null
          }
        },
        "cc9fdb84775f45fba1cbab460602f4cc": {
          "model_module": "@jupyter-widgets/controls",
          "model_name": "DescriptionStyleModel",
          "model_module_version": "1.5.0",
          "state": {
            "_model_module": "@jupyter-widgets/controls",
            "_model_module_version": "1.5.0",
            "_model_name": "DescriptionStyleModel",
            "_view_count": null,
            "_view_module": "@jupyter-widgets/base",
            "_view_module_version": "1.2.0",
            "_view_name": "StyleView",
            "description_width": ""
          }
        },
        "ab2acbafeaa744a4bd3f9248d4497d67": {
          "model_module": "@jupyter-widgets/base",
          "model_name": "LayoutModel",
          "model_module_version": "1.2.0",
          "state": {
            "_model_module": "@jupyter-widgets/base",
            "_model_module_version": "1.2.0",
            "_model_name": "LayoutModel",
            "_view_count": null,
            "_view_module": "@jupyter-widgets/base",
            "_view_module_version": "1.2.0",
            "_view_name": "LayoutView",
            "align_content": null,
            "align_items": null,
            "align_self": null,
            "border": null,
            "bottom": null,
            "display": null,
            "flex": null,
            "flex_flow": null,
            "grid_area": null,
            "grid_auto_columns": null,
            "grid_auto_flow": null,
            "grid_auto_rows": null,
            "grid_column": null,
            "grid_gap": null,
            "grid_row": null,
            "grid_template_areas": null,
            "grid_template_columns": null,
            "grid_template_rows": null,
            "height": null,
            "justify_content": null,
            "justify_items": null,
            "left": null,
            "margin": null,
            "max_height": null,
            "max_width": null,
            "min_height": null,
            "min_width": null,
            "object_fit": null,
            "object_position": null,
            "order": null,
            "overflow": null,
            "overflow_x": null,
            "overflow_y": null,
            "padding": null,
            "right": null,
            "top": null,
            "visibility": null,
            "width": null
          }
        },
        "b5c6271ca2d94f0898cab3b2080af210": {
          "model_module": "@jupyter-widgets/controls",
          "model_name": "ProgressStyleModel",
          "model_module_version": "1.5.0",
          "state": {
            "_model_module": "@jupyter-widgets/controls",
            "_model_module_version": "1.5.0",
            "_model_name": "ProgressStyleModel",
            "_view_count": null,
            "_view_module": "@jupyter-widgets/base",
            "_view_module_version": "1.2.0",
            "_view_name": "StyleView",
            "bar_color": null,
            "description_width": ""
          }
        },
        "8f130ec4c5434526bb792b36afd0d5fa": {
          "model_module": "@jupyter-widgets/base",
          "model_name": "LayoutModel",
          "model_module_version": "1.2.0",
          "state": {
            "_model_module": "@jupyter-widgets/base",
            "_model_module_version": "1.2.0",
            "_model_name": "LayoutModel",
            "_view_count": null,
            "_view_module": "@jupyter-widgets/base",
            "_view_module_version": "1.2.0",
            "_view_name": "LayoutView",
            "align_content": null,
            "align_items": null,
            "align_self": null,
            "border": null,
            "bottom": null,
            "display": null,
            "flex": null,
            "flex_flow": null,
            "grid_area": null,
            "grid_auto_columns": null,
            "grid_auto_flow": null,
            "grid_auto_rows": null,
            "grid_column": null,
            "grid_gap": null,
            "grid_row": null,
            "grid_template_areas": null,
            "grid_template_columns": null,
            "grid_template_rows": null,
            "height": null,
            "justify_content": null,
            "justify_items": null,
            "left": null,
            "margin": null,
            "max_height": null,
            "max_width": null,
            "min_height": null,
            "min_width": null,
            "object_fit": null,
            "object_position": null,
            "order": null,
            "overflow": null,
            "overflow_x": null,
            "overflow_y": null,
            "padding": null,
            "right": null,
            "top": null,
            "visibility": null,
            "width": null
          }
        },
        "b40388cc58a242988871ae3911e626ed": {
          "model_module": "@jupyter-widgets/controls",
          "model_name": "DescriptionStyleModel",
          "model_module_version": "1.5.0",
          "state": {
            "_model_module": "@jupyter-widgets/controls",
            "_model_module_version": "1.5.0",
            "_model_name": "DescriptionStyleModel",
            "_view_count": null,
            "_view_module": "@jupyter-widgets/base",
            "_view_module_version": "1.2.0",
            "_view_name": "StyleView",
            "description_width": ""
          }
        },
        "aa6b371b8b4645c39b3aafbb0a0182b1": {
          "model_module": "@jupyter-widgets/controls",
          "model_name": "HBoxModel",
          "model_module_version": "1.5.0",
          "state": {
            "_dom_classes": [],
            "_model_module": "@jupyter-widgets/controls",
            "_model_module_version": "1.5.0",
            "_model_name": "HBoxModel",
            "_view_count": null,
            "_view_module": "@jupyter-widgets/controls",
            "_view_module_version": "1.5.0",
            "_view_name": "HBoxView",
            "box_style": "",
            "children": [
              "IPY_MODEL_ac0ad9ef33904de4a6a27b6bf1c06f08",
              "IPY_MODEL_a0d371d5060e431582ef4a1430e9023f",
              "IPY_MODEL_55cab3d500c94ad6a445e161011abd30"
            ],
            "layout": "IPY_MODEL_2853fa90b79540d889f70f859f1165d2"
          }
        },
        "ac0ad9ef33904de4a6a27b6bf1c06f08": {
          "model_module": "@jupyter-widgets/controls",
          "model_name": "HTMLModel",
          "model_module_version": "1.5.0",
          "state": {
            "_dom_classes": [],
            "_model_module": "@jupyter-widgets/controls",
            "_model_module_version": "1.5.0",
            "_model_name": "HTMLModel",
            "_view_count": null,
            "_view_module": "@jupyter-widgets/controls",
            "_view_module_version": "1.5.0",
            "_view_name": "HTMLView",
            "description": "",
            "description_tooltip": null,
            "layout": "IPY_MODEL_b95c7f8bb8df485db3b3bc775a04b193",
            "placeholder": "​",
            "style": "IPY_MODEL_19088ff124eb4291b61f43e55deee1dd",
            "value": "model.safetensors: 100%"
          }
        },
        "a0d371d5060e431582ef4a1430e9023f": {
          "model_module": "@jupyter-widgets/controls",
          "model_name": "FloatProgressModel",
          "model_module_version": "1.5.0",
          "state": {
            "_dom_classes": [],
            "_model_module": "@jupyter-widgets/controls",
            "_model_module_version": "1.5.0",
            "_model_name": "FloatProgressModel",
            "_view_count": null,
            "_view_module": "@jupyter-widgets/controls",
            "_view_module_version": "1.5.0",
            "_view_name": "ProgressView",
            "bar_style": "success",
            "description": "",
            "description_tooltip": null,
            "layout": "IPY_MODEL_b630fc248869474ebea7423aaee879bf",
            "max": 548105171,
            "min": 0,
            "orientation": "horizontal",
            "style": "IPY_MODEL_bbd6abf036c54d0694f3902efc18a25a",
            "value": 548105171
          }
        },
        "55cab3d500c94ad6a445e161011abd30": {
          "model_module": "@jupyter-widgets/controls",
          "model_name": "HTMLModel",
          "model_module_version": "1.5.0",
          "state": {
            "_dom_classes": [],
            "_model_module": "@jupyter-widgets/controls",
            "_model_module_version": "1.5.0",
            "_model_name": "HTMLModel",
            "_view_count": null,
            "_view_module": "@jupyter-widgets/controls",
            "_view_module_version": "1.5.0",
            "_view_name": "HTMLView",
            "description": "",
            "description_tooltip": null,
            "layout": "IPY_MODEL_5ff6d24b04d74865a73bc5d16f3e3aa7",
            "placeholder": "​",
            "style": "IPY_MODEL_7c197b8537834e55ace2d87cd55c57b3",
            "value": " 548M/548M [00:09&lt;00:00, 48.5MB/s]"
          }
        },
        "2853fa90b79540d889f70f859f1165d2": {
          "model_module": "@jupyter-widgets/base",
          "model_name": "LayoutModel",
          "model_module_version": "1.2.0",
          "state": {
            "_model_module": "@jupyter-widgets/base",
            "_model_module_version": "1.2.0",
            "_model_name": "LayoutModel",
            "_view_count": null,
            "_view_module": "@jupyter-widgets/base",
            "_view_module_version": "1.2.0",
            "_view_name": "LayoutView",
            "align_content": null,
            "align_items": null,
            "align_self": null,
            "border": null,
            "bottom": null,
            "display": null,
            "flex": null,
            "flex_flow": null,
            "grid_area": null,
            "grid_auto_columns": null,
            "grid_auto_flow": null,
            "grid_auto_rows": null,
            "grid_column": null,
            "grid_gap": null,
            "grid_row": null,
            "grid_template_areas": null,
            "grid_template_columns": null,
            "grid_template_rows": null,
            "height": null,
            "justify_content": null,
            "justify_items": null,
            "left": null,
            "margin": null,
            "max_height": null,
            "max_width": null,
            "min_height": null,
            "min_width": null,
            "object_fit": null,
            "object_position": null,
            "order": null,
            "overflow": null,
            "overflow_x": null,
            "overflow_y": null,
            "padding": null,
            "right": null,
            "top": null,
            "visibility": null,
            "width": null
          }
        },
        "b95c7f8bb8df485db3b3bc775a04b193": {
          "model_module": "@jupyter-widgets/base",
          "model_name": "LayoutModel",
          "model_module_version": "1.2.0",
          "state": {
            "_model_module": "@jupyter-widgets/base",
            "_model_module_version": "1.2.0",
            "_model_name": "LayoutModel",
            "_view_count": null,
            "_view_module": "@jupyter-widgets/base",
            "_view_module_version": "1.2.0",
            "_view_name": "LayoutView",
            "align_content": null,
            "align_items": null,
            "align_self": null,
            "border": null,
            "bottom": null,
            "display": null,
            "flex": null,
            "flex_flow": null,
            "grid_area": null,
            "grid_auto_columns": null,
            "grid_auto_flow": null,
            "grid_auto_rows": null,
            "grid_column": null,
            "grid_gap": null,
            "grid_row": null,
            "grid_template_areas": null,
            "grid_template_columns": null,
            "grid_template_rows": null,
            "height": null,
            "justify_content": null,
            "justify_items": null,
            "left": null,
            "margin": null,
            "max_height": null,
            "max_width": null,
            "min_height": null,
            "min_width": null,
            "object_fit": null,
            "object_position": null,
            "order": null,
            "overflow": null,
            "overflow_x": null,
            "overflow_y": null,
            "padding": null,
            "right": null,
            "top": null,
            "visibility": null,
            "width": null
          }
        },
        "19088ff124eb4291b61f43e55deee1dd": {
          "model_module": "@jupyter-widgets/controls",
          "model_name": "DescriptionStyleModel",
          "model_module_version": "1.5.0",
          "state": {
            "_model_module": "@jupyter-widgets/controls",
            "_model_module_version": "1.5.0",
            "_model_name": "DescriptionStyleModel",
            "_view_count": null,
            "_view_module": "@jupyter-widgets/base",
            "_view_module_version": "1.2.0",
            "_view_name": "StyleView",
            "description_width": ""
          }
        },
        "b630fc248869474ebea7423aaee879bf": {
          "model_module": "@jupyter-widgets/base",
          "model_name": "LayoutModel",
          "model_module_version": "1.2.0",
          "state": {
            "_model_module": "@jupyter-widgets/base",
            "_model_module_version": "1.2.0",
            "_model_name": "LayoutModel",
            "_view_count": null,
            "_view_module": "@jupyter-widgets/base",
            "_view_module_version": "1.2.0",
            "_view_name": "LayoutView",
            "align_content": null,
            "align_items": null,
            "align_self": null,
            "border": null,
            "bottom": null,
            "display": null,
            "flex": null,
            "flex_flow": null,
            "grid_area": null,
            "grid_auto_columns": null,
            "grid_auto_flow": null,
            "grid_auto_rows": null,
            "grid_column": null,
            "grid_gap": null,
            "grid_row": null,
            "grid_template_areas": null,
            "grid_template_columns": null,
            "grid_template_rows": null,
            "height": null,
            "justify_content": null,
            "justify_items": null,
            "left": null,
            "margin": null,
            "max_height": null,
            "max_width": null,
            "min_height": null,
            "min_width": null,
            "object_fit": null,
            "object_position": null,
            "order": null,
            "overflow": null,
            "overflow_x": null,
            "overflow_y": null,
            "padding": null,
            "right": null,
            "top": null,
            "visibility": null,
            "width": null
          }
        },
        "bbd6abf036c54d0694f3902efc18a25a": {
          "model_module": "@jupyter-widgets/controls",
          "model_name": "ProgressStyleModel",
          "model_module_version": "1.5.0",
          "state": {
            "_model_module": "@jupyter-widgets/controls",
            "_model_module_version": "1.5.0",
            "_model_name": "ProgressStyleModel",
            "_view_count": null,
            "_view_module": "@jupyter-widgets/base",
            "_view_module_version": "1.2.0",
            "_view_name": "StyleView",
            "bar_color": null,
            "description_width": ""
          }
        },
        "5ff6d24b04d74865a73bc5d16f3e3aa7": {
          "model_module": "@jupyter-widgets/base",
          "model_name": "LayoutModel",
          "model_module_version": "1.2.0",
          "state": {
            "_model_module": "@jupyter-widgets/base",
            "_model_module_version": "1.2.0",
            "_model_name": "LayoutModel",
            "_view_count": null,
            "_view_module": "@jupyter-widgets/base",
            "_view_module_version": "1.2.0",
            "_view_name": "LayoutView",
            "align_content": null,
            "align_items": null,
            "align_self": null,
            "border": null,
            "bottom": null,
            "display": null,
            "flex": null,
            "flex_flow": null,
            "grid_area": null,
            "grid_auto_columns": null,
            "grid_auto_flow": null,
            "grid_auto_rows": null,
            "grid_column": null,
            "grid_gap": null,
            "grid_row": null,
            "grid_template_areas": null,
            "grid_template_columns": null,
            "grid_template_rows": null,
            "height": null,
            "justify_content": null,
            "justify_items": null,
            "left": null,
            "margin": null,
            "max_height": null,
            "max_width": null,
            "min_height": null,
            "min_width": null,
            "object_fit": null,
            "object_position": null,
            "order": null,
            "overflow": null,
            "overflow_x": null,
            "overflow_y": null,
            "padding": null,
            "right": null,
            "top": null,
            "visibility": null,
            "width": null
          }
        },
        "7c197b8537834e55ace2d87cd55c57b3": {
          "model_module": "@jupyter-widgets/controls",
          "model_name": "DescriptionStyleModel",
          "model_module_version": "1.5.0",
          "state": {
            "_model_module": "@jupyter-widgets/controls",
            "_model_module_version": "1.5.0",
            "_model_name": "DescriptionStyleModel",
            "_view_count": null,
            "_view_module": "@jupyter-widgets/base",
            "_view_module_version": "1.2.0",
            "_view_name": "StyleView",
            "description_width": ""
          }
        },
        "da9382f9285f4a95b46bf0381e3e1877": {
          "model_module": "@jupyter-widgets/controls",
          "model_name": "HBoxModel",
          "model_module_version": "1.5.0",
          "state": {
            "_dom_classes": [],
            "_model_module": "@jupyter-widgets/controls",
            "_model_module_version": "1.5.0",
            "_model_name": "HBoxModel",
            "_view_count": null,
            "_view_module": "@jupyter-widgets/controls",
            "_view_module_version": "1.5.0",
            "_view_name": "HBoxView",
            "box_style": "",
            "children": [
              "IPY_MODEL_daadef5a4a4b4126a5ca1f0cba1e1dfd",
              "IPY_MODEL_94bc9fef6f8848208b0185b9fea5d1e5",
              "IPY_MODEL_245694af827c4af3a40648f76fefef7d"
            ],
            "layout": "IPY_MODEL_105b46afaa614e51862463dc178039be"
          }
        },
        "daadef5a4a4b4126a5ca1f0cba1e1dfd": {
          "model_module": "@jupyter-widgets/controls",
          "model_name": "HTMLModel",
          "model_module_version": "1.5.0",
          "state": {
            "_dom_classes": [],
            "_model_module": "@jupyter-widgets/controls",
            "_model_module_version": "1.5.0",
            "_model_name": "HTMLModel",
            "_view_count": null,
            "_view_module": "@jupyter-widgets/controls",
            "_view_module_version": "1.5.0",
            "_view_name": "HTMLView",
            "description": "",
            "description_tooltip": null,
            "layout": "IPY_MODEL_b9a89f9a441b4521901afe4023965e1a",
            "placeholder": "​",
            "style": "IPY_MODEL_5eabb6b7ef524077b519c5123d23f65f",
            "value": "generation_config.json: 100%"
          }
        },
        "94bc9fef6f8848208b0185b9fea5d1e5": {
          "model_module": "@jupyter-widgets/controls",
          "model_name": "FloatProgressModel",
          "model_module_version": "1.5.0",
          "state": {
            "_dom_classes": [],
            "_model_module": "@jupyter-widgets/controls",
            "_model_module_version": "1.5.0",
            "_model_name": "FloatProgressModel",
            "_view_count": null,
            "_view_module": "@jupyter-widgets/controls",
            "_view_module_version": "1.5.0",
            "_view_name": "ProgressView",
            "bar_style": "success",
            "description": "",
            "description_tooltip": null,
            "layout": "IPY_MODEL_1f867699f55f44fc9de8c2c277014df7",
            "max": 124,
            "min": 0,
            "orientation": "horizontal",
            "style": "IPY_MODEL_60b598e55db842c6b15b7a0e19a09740",
            "value": 124
          }
        },
        "245694af827c4af3a40648f76fefef7d": {
          "model_module": "@jupyter-widgets/controls",
          "model_name": "HTMLModel",
          "model_module_version": "1.5.0",
          "state": {
            "_dom_classes": [],
            "_model_module": "@jupyter-widgets/controls",
            "_model_module_version": "1.5.0",
            "_model_name": "HTMLModel",
            "_view_count": null,
            "_view_module": "@jupyter-widgets/controls",
            "_view_module_version": "1.5.0",
            "_view_name": "HTMLView",
            "description": "",
            "description_tooltip": null,
            "layout": "IPY_MODEL_d9dd20c36b034badaac77b09a3b5785f",
            "placeholder": "​",
            "style": "IPY_MODEL_5d1d0a8ebabb4612968f3bc5defbccfc",
            "value": " 124/124 [00:00&lt;00:00, 686B/s]"
          }
        },
        "105b46afaa614e51862463dc178039be": {
          "model_module": "@jupyter-widgets/base",
          "model_name": "LayoutModel",
          "model_module_version": "1.2.0",
          "state": {
            "_model_module": "@jupyter-widgets/base",
            "_model_module_version": "1.2.0",
            "_model_name": "LayoutModel",
            "_view_count": null,
            "_view_module": "@jupyter-widgets/base",
            "_view_module_version": "1.2.0",
            "_view_name": "LayoutView",
            "align_content": null,
            "align_items": null,
            "align_self": null,
            "border": null,
            "bottom": null,
            "display": null,
            "flex": null,
            "flex_flow": null,
            "grid_area": null,
            "grid_auto_columns": null,
            "grid_auto_flow": null,
            "grid_auto_rows": null,
            "grid_column": null,
            "grid_gap": null,
            "grid_row": null,
            "grid_template_areas": null,
            "grid_template_columns": null,
            "grid_template_rows": null,
            "height": null,
            "justify_content": null,
            "justify_items": null,
            "left": null,
            "margin": null,
            "max_height": null,
            "max_width": null,
            "min_height": null,
            "min_width": null,
            "object_fit": null,
            "object_position": null,
            "order": null,
            "overflow": null,
            "overflow_x": null,
            "overflow_y": null,
            "padding": null,
            "right": null,
            "top": null,
            "visibility": null,
            "width": null
          }
        },
        "b9a89f9a441b4521901afe4023965e1a": {
          "model_module": "@jupyter-widgets/base",
          "model_name": "LayoutModel",
          "model_module_version": "1.2.0",
          "state": {
            "_model_module": "@jupyter-widgets/base",
            "_model_module_version": "1.2.0",
            "_model_name": "LayoutModel",
            "_view_count": null,
            "_view_module": "@jupyter-widgets/base",
            "_view_module_version": "1.2.0",
            "_view_name": "LayoutView",
            "align_content": null,
            "align_items": null,
            "align_self": null,
            "border": null,
            "bottom": null,
            "display": null,
            "flex": null,
            "flex_flow": null,
            "grid_area": null,
            "grid_auto_columns": null,
            "grid_auto_flow": null,
            "grid_auto_rows": null,
            "grid_column": null,
            "grid_gap": null,
            "grid_row": null,
            "grid_template_areas": null,
            "grid_template_columns": null,
            "grid_template_rows": null,
            "height": null,
            "justify_content": null,
            "justify_items": null,
            "left": null,
            "margin": null,
            "max_height": null,
            "max_width": null,
            "min_height": null,
            "min_width": null,
            "object_fit": null,
            "object_position": null,
            "order": null,
            "overflow": null,
            "overflow_x": null,
            "overflow_y": null,
            "padding": null,
            "right": null,
            "top": null,
            "visibility": null,
            "width": null
          }
        },
        "5eabb6b7ef524077b519c5123d23f65f": {
          "model_module": "@jupyter-widgets/controls",
          "model_name": "DescriptionStyleModel",
          "model_module_version": "1.5.0",
          "state": {
            "_model_module": "@jupyter-widgets/controls",
            "_model_module_version": "1.5.0",
            "_model_name": "DescriptionStyleModel",
            "_view_count": null,
            "_view_module": "@jupyter-widgets/base",
            "_view_module_version": "1.2.0",
            "_view_name": "StyleView",
            "description_width": ""
          }
        },
        "1f867699f55f44fc9de8c2c277014df7": {
          "model_module": "@jupyter-widgets/base",
          "model_name": "LayoutModel",
          "model_module_version": "1.2.0",
          "state": {
            "_model_module": "@jupyter-widgets/base",
            "_model_module_version": "1.2.0",
            "_model_name": "LayoutModel",
            "_view_count": null,
            "_view_module": "@jupyter-widgets/base",
            "_view_module_version": "1.2.0",
            "_view_name": "LayoutView",
            "align_content": null,
            "align_items": null,
            "align_self": null,
            "border": null,
            "bottom": null,
            "display": null,
            "flex": null,
            "flex_flow": null,
            "grid_area": null,
            "grid_auto_columns": null,
            "grid_auto_flow": null,
            "grid_auto_rows": null,
            "grid_column": null,
            "grid_gap": null,
            "grid_row": null,
            "grid_template_areas": null,
            "grid_template_columns": null,
            "grid_template_rows": null,
            "height": null,
            "justify_content": null,
            "justify_items": null,
            "left": null,
            "margin": null,
            "max_height": null,
            "max_width": null,
            "min_height": null,
            "min_width": null,
            "object_fit": null,
            "object_position": null,
            "order": null,
            "overflow": null,
            "overflow_x": null,
            "overflow_y": null,
            "padding": null,
            "right": null,
            "top": null,
            "visibility": null,
            "width": null
          }
        },
        "60b598e55db842c6b15b7a0e19a09740": {
          "model_module": "@jupyter-widgets/controls",
          "model_name": "ProgressStyleModel",
          "model_module_version": "1.5.0",
          "state": {
            "_model_module": "@jupyter-widgets/controls",
            "_model_module_version": "1.5.0",
            "_model_name": "ProgressStyleModel",
            "_view_count": null,
            "_view_module": "@jupyter-widgets/base",
            "_view_module_version": "1.2.0",
            "_view_name": "StyleView",
            "bar_color": null,
            "description_width": ""
          }
        },
        "d9dd20c36b034badaac77b09a3b5785f": {
          "model_module": "@jupyter-widgets/base",
          "model_name": "LayoutModel",
          "model_module_version": "1.2.0",
          "state": {
            "_model_module": "@jupyter-widgets/base",
            "_model_module_version": "1.2.0",
            "_model_name": "LayoutModel",
            "_view_count": null,
            "_view_module": "@jupyter-widgets/base",
            "_view_module_version": "1.2.0",
            "_view_name": "LayoutView",
            "align_content": null,
            "align_items": null,
            "align_self": null,
            "border": null,
            "bottom": null,
            "display": null,
            "flex": null,
            "flex_flow": null,
            "grid_area": null,
            "grid_auto_columns": null,
            "grid_auto_flow": null,
            "grid_auto_rows": null,
            "grid_column": null,
            "grid_gap": null,
            "grid_row": null,
            "grid_template_areas": null,
            "grid_template_columns": null,
            "grid_template_rows": null,
            "height": null,
            "justify_content": null,
            "justify_items": null,
            "left": null,
            "margin": null,
            "max_height": null,
            "max_width": null,
            "min_height": null,
            "min_width": null,
            "object_fit": null,
            "object_position": null,
            "order": null,
            "overflow": null,
            "overflow_x": null,
            "overflow_y": null,
            "padding": null,
            "right": null,
            "top": null,
            "visibility": null,
            "width": null
          }
        },
        "5d1d0a8ebabb4612968f3bc5defbccfc": {
          "model_module": "@jupyter-widgets/controls",
          "model_name": "DescriptionStyleModel",
          "model_module_version": "1.5.0",
          "state": {
            "_model_module": "@jupyter-widgets/controls",
            "_model_module_version": "1.5.0",
            "_model_name": "DescriptionStyleModel",
            "_view_count": null,
            "_view_module": "@jupyter-widgets/base",
            "_view_module_version": "1.2.0",
            "_view_name": "StyleView",
            "description_width": ""
          }
        }
      }
    }
  },
  "cells": [
    {
      "cell_type": "markdown",
      "source": [
        "Machine Behavior Tutorial\n",
        "==============\n",
        "\n",
        "Research on machine behavior requires a multifaceted toolbox of technical methods. It can involve training machine learning algorithms and designing custom interfaces for human-machine interaction. In this tutorial, we will focus on the role of proprietary Large Language Models in social science."
      ],
      "metadata": {
        "id": "pZ7amTEmfDLe"
      }
    },
    {
      "cell_type": "markdown",
      "source": [
        "# Intro\n"
      ],
      "metadata": {
        "id": "xR1h2V5EgDY_"
      }
    },
    {
      "cell_type": "markdown",
      "source": [
        "\n",
        "## What are Large Language Models?"
      ],
      "metadata": {
        "id": "OBtEiTxX7NCh"
      }
    },
    {
      "cell_type": "markdown",
      "source": [
        "All currently relevant LLMs are based on the transformer architecture [[Attention Is All You Need](https://arxiv.org/abs/1706.03762)]. In the following, we will only briefly discuss the architectural design of LLMs and then spend more time on the role of LLMs in social science. First, we would like to offer two perspectives on how to think about LLMs."
      ],
      "metadata": {
        "id": "PtCXTvWcgKk8"
      }
    },
    {
      "cell_type": "markdown",
      "source": [
        "### LLMs are next token predictors\n",
        "\n",
        "<img height=400 src=\"https://raw.githubusercontent.com/LBrinkmann/machine-behavior-course/main/DALL%C2%B7E%202024-04-18%2019.25.46%20-%20A%20black-and-white%20technical%20drawing%20of%20a%20robot%20parrot%2C%20reminiscent%20of%20designs%20from%20the%201970s.%20The%20drawing%20should%20feature%20intricate%20mechanical%20details%2C.webp\">\n",
        "\n",
        "LLMs have often been described as mere next-token predictors [[On the Dangers of Stochastic Parrots](https://dl.acm.org/doi/pdf/10.1145/3442188.3445922)]. Technically, this is not incorrect.\n"
      ],
      "metadata": {
        "id": "XsJ1IUI_hPyO"
      }
    },
    {
      "cell_type": "markdown",
      "source": [
        "**What is a token?**\n",
        "\n",
        "To work with text, individual characters or groups of characters need to be assigned to a vector, which can then be interpreted by the neural network. In practice, individual characters proved to be too fine-grained. On the other hand, there are too many words (also consider spelling errors) for each word to be assigned a unique vector. Therefore, in practice, tokens are used, with 1-3 tokens representing a single word.\n",
        "\n",
        "We will now have a quick look at how this works in practice. We will use the Hugging Face library and the GPT-2 model, a much smaller predecessor to the well-known GPT-3 and GPT-4 models.\n",
        "\n",
        "**Hugging Face**\n",
        "\n",
        "<img height=100 src=\"https://huggingface.co/datasets/huggingface/brand-assets/resolve/main/hf-logo.svg\">\n",
        "\n",
        "The resource for open-source large language models."
      ],
      "metadata": {
        "id": "KxsN5d4-huCo"
      }
    },
    {
      "cell_type": "code",
      "source": [
        "# first wee need to ensure that we have the transformer library installed\n",
        "!pip install transformers"
      ],
      "metadata": {
        "colab": {
          "base_uri": "https://localhost:8080/"
        },
        "id": "XhzsbyukhtPg",
        "outputId": "e398a2c0-fb89-4181-9072-39ad6f6f1a56"
      },
      "execution_count": null,
      "outputs": [
        {
          "output_type": "stream",
          "name": "stdout",
          "text": [
            "Requirement already satisfied: transformers in /usr/local/lib/python3.10/dist-packages (4.38.2)\n",
            "Requirement already satisfied: filelock in /usr/local/lib/python3.10/dist-packages (from transformers) (3.13.4)\n",
            "Requirement already satisfied: huggingface-hub<1.0,>=0.19.3 in /usr/local/lib/python3.10/dist-packages (from transformers) (0.20.3)\n",
            "Requirement already satisfied: numpy>=1.17 in /usr/local/lib/python3.10/dist-packages (from transformers) (1.25.2)\n",
            "Requirement already satisfied: packaging>=20.0 in /usr/local/lib/python3.10/dist-packages (from transformers) (24.0)\n",
            "Requirement already satisfied: pyyaml>=5.1 in /usr/local/lib/python3.10/dist-packages (from transformers) (6.0.1)\n",
            "Requirement already satisfied: regex!=2019.12.17 in /usr/local/lib/python3.10/dist-packages (from transformers) (2023.12.25)\n",
            "Requirement already satisfied: requests in /usr/local/lib/python3.10/dist-packages (from transformers) (2.31.0)\n",
            "Requirement already satisfied: tokenizers<0.19,>=0.14 in /usr/local/lib/python3.10/dist-packages (from transformers) (0.15.2)\n",
            "Requirement already satisfied: safetensors>=0.4.1 in /usr/local/lib/python3.10/dist-packages (from transformers) (0.4.3)\n",
            "Requirement already satisfied: tqdm>=4.27 in /usr/local/lib/python3.10/dist-packages (from transformers) (4.66.2)\n",
            "Requirement already satisfied: fsspec>=2023.5.0 in /usr/local/lib/python3.10/dist-packages (from huggingface-hub<1.0,>=0.19.3->transformers) (2023.6.0)\n",
            "Requirement already satisfied: typing-extensions>=3.7.4.3 in /usr/local/lib/python3.10/dist-packages (from huggingface-hub<1.0,>=0.19.3->transformers) (4.11.0)\n",
            "Requirement already satisfied: charset-normalizer<4,>=2 in /usr/local/lib/python3.10/dist-packages (from requests->transformers) (3.3.2)\n",
            "Requirement already satisfied: idna<4,>=2.5 in /usr/local/lib/python3.10/dist-packages (from requests->transformers) (3.7)\n",
            "Requirement already satisfied: urllib3<3,>=1.21.1 in /usr/local/lib/python3.10/dist-packages (from requests->transformers) (2.0.7)\n",
            "Requirement already satisfied: certifi>=2017.4.17 in /usr/local/lib/python3.10/dist-packages (from requests->transformers) (2024.2.2)\n"
          ]
        }
      ]
    },
    {
      "cell_type": "code",
      "source": [
        "from transformers import GPT2Tokenizer\n",
        "\n",
        "# Initialize the GPT-2 tokenizer\n",
        "tokenizer = GPT2Tokenizer.from_pretrained('gpt2')\n",
        "\n",
        "# Example text\n",
        "text = \"Hello, how are you doing today?\"\n",
        "print(\"Text:\", text)\n",
        "\n",
        "# Tokenizing the text\n",
        "tokens = tokenizer.encode(text)\n",
        "print(\"Tokens:\", tokens)\n",
        "\n",
        "# Print each token\n",
        "decoded_token = [tokenizer.decode([token]) for token in tokens]\n",
        "print(\"Decoded Tokens:\", decoded_token)\n",
        "\n",
        "# Decoding the tokens back to text\n",
        "decoded_text = tokenizer.decode(tokens)\n",
        "print(\"Decoded Text:\", decoded_text)"
      ],
      "metadata": {
        "colab": {
          "base_uri": "https://localhost:8080/",
          "height": 371,
          "referenced_widgets": [
            "535f568d95ff4b0685595bc1309ec088",
            "f4dcaa5701e54d9f9938d398ee2d8457",
            "5dbc318864334546a71cfae539944b1e",
            "c4654fbb750c4c6080e182c468f9cf4f",
            "a0914247cc384730a55c7eb400ab1d25",
            "dd6b374166ec4d3ca25240ab3c6ba0da",
            "e2454ace40914d8b80c22cf5aea44326",
            "b98444316bec4871a50b89e099a63ac4",
            "33ab06533345404dadab3977ae860cf3",
            "cf5bb17c36ee43e1b43930b9dd90f590",
            "33a79643a6094c7aab41fe7a9525945f",
            "a4ad5ab3e8a3485eb7364eaeb0883635",
            "f0d5e09fa1df40a1a4196131c3614494",
            "9288acfa3f5b409f9b4cc20540f76850",
            "66bc130f47ac4936be5d447a1d56e28a",
            "a38154deecbc4022af13ad11297382ed",
            "bd9603837e9f423f8cf3b9fb4bd73b5b",
            "8281e4d75f4047a0ab550d7db185bb6c",
            "021d5d922ea843a5892b3f4bcf78915c",
            "5ba8f9504d66455fb48f51ef7acb985f",
            "29c36c916b1e4a7e9737cfefedf7155e",
            "73cb3a8c07b84336a6996c69f542d31c",
            "85eed3ae8faa431cabcfba3231b68646",
            "d8625889c490443482a7aacdc4a2b341",
            "69365325d558457a8b7cbd07c1db8a42",
            "e578e6fd267f4c7cac7d4f6586d24743",
            "8bde6c25e57e4404a477ff26ed055cdb",
            "22e2c45d230e49d1ac98237d8e8d5966",
            "8ac2940d49ee42b086b24ae08251d294",
            "14beaf35ded84cf3bda5a5dba0126c4f",
            "38ecd2831d1149cc826bed72262035f8",
            "b022eabb46584f6c8bf0764ff63ac35f",
            "91ddd700fe71403eb9973133293f26c2",
            "cc5dd49c861f4620bf84f3f9015c6d75",
            "a41604ea80204a988b3b008342fa0e3f",
            "774f608099674f3fa0600a8e961b1f1c",
            "c138bbe376b14a36874d73a40b8c34a2",
            "f03fa172c6b548a1846fcf88baab0afc",
            "9df212e680f64f4e8cc2bb24aea8f63d",
            "42b7d999593545289b32cb4b1744c40f",
            "1ee213fe1184401d9a1d4b2d8e966c26",
            "7d917bc0647c439c90b2f3d3dbc52229",
            "e669641438e3445b9fdbc705b00b8a92",
            "60a798268c8540d982a7c30a3d7b16d1",
            "aab94491fe504a359b46943d31e29dba",
            "7d7e99eeb64b4ee7889ffbafab1227a4",
            "ca3b2b680c054ab0b81ee5cb6962f11e",
            "85657cd1055547b19b91e82584cdb4ac",
            "0ae1cabf006743f6868b58130c96676f",
            "0afbdd72b3784d28a8d39945bc80744f",
            "cc9fdb84775f45fba1cbab460602f4cc",
            "ab2acbafeaa744a4bd3f9248d4497d67",
            "b5c6271ca2d94f0898cab3b2080af210",
            "8f130ec4c5434526bb792b36afd0d5fa",
            "b40388cc58a242988871ae3911e626ed"
          ]
        },
        "id": "T3k55JoFjt6S",
        "outputId": "b8c2d417-8f56-4608-9a05-58f709cb463a"
      },
      "execution_count": null,
      "outputs": [
        {
          "output_type": "stream",
          "name": "stderr",
          "text": [
            "/usr/local/lib/python3.10/dist-packages/huggingface_hub/utils/_token.py:88: UserWarning: \n",
            "The secret `HF_TOKEN` does not exist in your Colab secrets.\n",
            "To authenticate with the Hugging Face Hub, create a token in your settings tab (https://huggingface.co/settings/tokens), set it as secret in your Google Colab and restart your session.\n",
            "You will be able to reuse this secret in all of your notebooks.\n",
            "Please note that authentication is recommended but still optional to access public models or datasets.\n",
            "  warnings.warn(\n"
          ]
        },
        {
          "output_type": "display_data",
          "data": {
            "text/plain": [
              "tokenizer_config.json:   0%|          | 0.00/26.0 [00:00<?, ?B/s]"
            ],
            "application/vnd.jupyter.widget-view+json": {
              "version_major": 2,
              "version_minor": 0,
              "model_id": "535f568d95ff4b0685595bc1309ec088"
            }
          },
          "metadata": {}
        },
        {
          "output_type": "display_data",
          "data": {
            "text/plain": [
              "vocab.json:   0%|          | 0.00/1.04M [00:00<?, ?B/s]"
            ],
            "application/vnd.jupyter.widget-view+json": {
              "version_major": 2,
              "version_minor": 0,
              "model_id": "a4ad5ab3e8a3485eb7364eaeb0883635"
            }
          },
          "metadata": {}
        },
        {
          "output_type": "display_data",
          "data": {
            "text/plain": [
              "merges.txt:   0%|          | 0.00/456k [00:00<?, ?B/s]"
            ],
            "application/vnd.jupyter.widget-view+json": {
              "version_major": 2,
              "version_minor": 0,
              "model_id": "85eed3ae8faa431cabcfba3231b68646"
            }
          },
          "metadata": {}
        },
        {
          "output_type": "display_data",
          "data": {
            "text/plain": [
              "tokenizer.json:   0%|          | 0.00/1.36M [00:00<?, ?B/s]"
            ],
            "application/vnd.jupyter.widget-view+json": {
              "version_major": 2,
              "version_minor": 0,
              "model_id": "cc5dd49c861f4620bf84f3f9015c6d75"
            }
          },
          "metadata": {}
        },
        {
          "output_type": "display_data",
          "data": {
            "text/plain": [
              "config.json:   0%|          | 0.00/665 [00:00<?, ?B/s]"
            ],
            "application/vnd.jupyter.widget-view+json": {
              "version_major": 2,
              "version_minor": 0,
              "model_id": "aab94491fe504a359b46943d31e29dba"
            }
          },
          "metadata": {}
        },
        {
          "output_type": "stream",
          "name": "stdout",
          "text": [
            "Text: Hello, how are you doing today?\n",
            "Tokens: [15496, 11, 703, 389, 345, 1804, 1909, 30]\n",
            "Decoded Tokens: ['Hello', ',', ' how', ' are', ' you', ' doing', ' today', '?']\n",
            "Decoded Text: Hello, how are you doing today?\n"
          ]
        }
      ]
    },
    {
      "cell_type": "markdown",
      "source": [
        "**Next Token Predictors**\n",
        "\n",
        "Different types of large language models (LLMs) exist. The BERT model from Google AI was trained by obscuring some words in a text and asking the model to fill in the gaps, similar to a fill-in-the-blanks exercise in primary school.\n",
        "\n",
        "In recent years, **autoregressive** training of LLMs has become the dominant approach. These models can be trained very efficiently. During training, while they predict all tokens in a batch in parallel, the attention mechanism ensures that only preceding tokens are considered for each token.\n",
        "\n",
        "The attention mechanism controls the degree to which one token influences the prediction of another token. This control is exerted by neural networks and influenced by the tokens themselves, which is why this mechanism is called self-attention. Self-attention is learned during the training of the model.\n",
        "\n",
        "<img src=\"https://peterbloem.nl/files/transformers/masked-attention.svg\">\n",
        "\n",
        "*The attention mechanism controls how much an input token x influences the output token y. In autoregressive training, the input and output tokens are identical, with the output shifted by one ($y_t = x_{t-1}$). The attention mask ensures that each token is only influenced by preceding tokens.*\n",
        "\n",
        "When generating text, these models operate token by token.\n",
        "\n"
      ],
      "metadata": {
        "id": "Jofa-279RZH9"
      }
    },
    {
      "cell_type": "code",
      "source": [
        "from transformers import GPT2Tokenizer, GPT2LMHeadModel\n",
        "import torch\n",
        "\n",
        "prompt = \"Hello, how are you doing today?\\n Thanks, I\"\n",
        "\n",
        "# Initialize the GPT-2 tokenizer and the smallest GPT-2 model\n",
        "tokenizer = GPT2Tokenizer.from_pretrained('gpt2')\n",
        "model = GPT2LMHeadModel.from_pretrained('gpt2')\n",
        "\n",
        "# Example prompt\n",
        "prompt = \"Hello, how are you doing today? - Thanks, \"\n",
        "print(\"Initial Prompt:\", prompt)\n",
        "\n",
        "# Tokenizing the text\n",
        "input_ids = tokenizer.encode(prompt, return_tensors='pt')\n",
        "\n",
        "# Number of tokens to generate\n",
        "num_tokens_to_generate = 10\n",
        "\n",
        "# Generate text token by token\n",
        "for _ in range(num_tokens_to_generate):\n",
        "    # Get the logits of the last token\n",
        "    logits = model(input_ids).logits[:, -1, :]\n",
        "\n",
        "    # Predict the next token (get the token with the highest probability)\n",
        "    next_token_id = torch.argmax(logits, dim=-1, keepdim=True)\n",
        "\n",
        "    # Append the predicted token ID to the input IDs\n",
        "    input_ids = torch.cat([input_ids, next_token_id], dim=-1)\n",
        "\n",
        "    # Print the current output\n",
        "    print(\"Current Generated Text:\", tokenizer.decode(input_ids[0]))\n",
        "\n",
        "# Output the final generated text\n",
        "final_generated_text = tokenizer.decode(input_ids[0])\n",
        "print(\"Final Generated Text:\", final_generated_text)"
      ],
      "metadata": {
        "colab": {
          "base_uri": "https://localhost:8080/",
          "height": 289,
          "referenced_widgets": [
            "aa6b371b8b4645c39b3aafbb0a0182b1",
            "ac0ad9ef33904de4a6a27b6bf1c06f08",
            "a0d371d5060e431582ef4a1430e9023f",
            "55cab3d500c94ad6a445e161011abd30",
            "2853fa90b79540d889f70f859f1165d2",
            "b95c7f8bb8df485db3b3bc775a04b193",
            "19088ff124eb4291b61f43e55deee1dd",
            "b630fc248869474ebea7423aaee879bf",
            "bbd6abf036c54d0694f3902efc18a25a",
            "5ff6d24b04d74865a73bc5d16f3e3aa7",
            "7c197b8537834e55ace2d87cd55c57b3",
            "da9382f9285f4a95b46bf0381e3e1877",
            "daadef5a4a4b4126a5ca1f0cba1e1dfd",
            "94bc9fef6f8848208b0185b9fea5d1e5",
            "245694af827c4af3a40648f76fefef7d",
            "105b46afaa614e51862463dc178039be",
            "b9a89f9a441b4521901afe4023965e1a",
            "5eabb6b7ef524077b519c5123d23f65f",
            "1f867699f55f44fc9de8c2c277014df7",
            "60b598e55db842c6b15b7a0e19a09740",
            "d9dd20c36b034badaac77b09a3b5785f",
            "5d1d0a8ebabb4612968f3bc5defbccfc"
          ]
        },
        "id": "5WckejfEsfOV",
        "outputId": "ac0d4d23-882d-4a6d-944b-86844b7f8b2d"
      },
      "execution_count": null,
      "outputs": [
        {
          "output_type": "display_data",
          "data": {
            "text/plain": [
              "model.safetensors:   0%|          | 0.00/548M [00:00<?, ?B/s]"
            ],
            "application/vnd.jupyter.widget-view+json": {
              "version_major": 2,
              "version_minor": 0,
              "model_id": "aa6b371b8b4645c39b3aafbb0a0182b1"
            }
          },
          "metadata": {}
        },
        {
          "output_type": "display_data",
          "data": {
            "text/plain": [
              "generation_config.json:   0%|          | 0.00/124 [00:00<?, ?B/s]"
            ],
            "application/vnd.jupyter.widget-view+json": {
              "version_major": 2,
              "version_minor": 0,
              "model_id": "da9382f9285f4a95b46bf0381e3e1877"
            }
          },
          "metadata": {}
        },
        {
          "output_type": "stream",
          "name": "stdout",
          "text": [
            "Initial Prompt: Hello, how are you doing today? - Thanks, \n",
            "Current Generated Text: Hello, how are you doing today? - Thanks,  \n",
            "Current Generated Text: Hello, how are you doing today? - Thanks,  I\n",
            "Current Generated Text: Hello, how are you doing today? - Thanks,  I'm\n",
            "Current Generated Text: Hello, how are you doing today? - Thanks,  I'm so\n",
            "Current Generated Text: Hello, how are you doing today? - Thanks,  I'm so happy\n",
            "Current Generated Text: Hello, how are you doing today? - Thanks,  I'm so happy to\n",
            "Current Generated Text: Hello, how are you doing today? - Thanks,  I'm so happy to see\n",
            "Current Generated Text: Hello, how are you doing today? - Thanks,  I'm so happy to see you\n",
            "Current Generated Text: Hello, how are you doing today? - Thanks,  I'm so happy to see you.\n",
            "Current Generated Text: Hello, how are you doing today? - Thanks,  I'm so happy to see you. I\n",
            "Final Generated Text: Hello, how are you doing today? - Thanks,  I'm so happy to see you. I\n"
          ]
        }
      ]
    },
    {
      "cell_type": "markdown",
      "source": [
        "**Follow up readings & Videos**\n",
        "\n",
        "Intuitive visualisations:\n",
        "* https://ig.ft.com/generative-ai/\n",
        "\n",
        "The transformer architecture:\n",
        "* [\n",
        "Andrej Karpathy: Let's build GPT: from scratch, in code, spelled out.](https://www.youtube.com/watch?v=kCc8FmEb1nY)\n",
        "* [Attention is all you need.](https://arxiv.org/abs/1706.03762)"
      ],
      "metadata": {
        "id": "DbQjhqJYTCRH"
      }
    },
    {
      "cell_type": "markdown",
      "source": [
        "### Emerging capabilities of LLMs\n",
        "\n",
        "<img height=400 src=\"https://raw.githubusercontent.com/LBrinkmann/machine-behavior-course/main/DALL%C2%B7E%202024-04-18%2019.28.15%20-%20A%20black-and-white%20technical%20drawing%20of%20an%20artificial%20brain%2C%20styled%20like%201970s%20engineering%20blueprints.%20The%20drawing%20should%20display%20a%20complex%20network%20of%20.webp\">\n",
        "\n",
        "\n",
        "The perspective of LLMs *just* being next token predictors does not do justice to the fact that LLMs gain an increasing number of capabilities by scaling towards larger models and datasets [Language Models are Few-Shot Learners](https://arxiv.org/pdf/2005.14165.pdf). Some argue that GPT-4 exhibits [Sparks of Artificial General Intelligence](https://arxiv.org/abs/2303.12712). Additionally, prediction of the world around also plays a major role in human intelligence [The Predictive Mind](https://academic.oup.com/book/4105).\n"
      ],
      "metadata": {
        "id": "K2ZjLw_ouq0u"
      }
    },
    {
      "cell_type": "code",
      "source": [
        "from transformers import GPT2LMHeadModel, GPT2Tokenizer\n",
        "\n",
        "prompt = \"Q: What is 48 plus 76? The answer is:\"\n",
        "\n",
        "# Load model and tokenizer\n",
        "model = GPT2LMHeadModel.from_pretrained('gpt2')\n",
        "tokenizer = GPT2Tokenizer.from_pretrained('gpt2')\n",
        "\n",
        "# Encode the input text plus obtain attention mask\n",
        "inputs = tokenizer.encode_plus(prompt, return_tensors=\"pt\")\n",
        "\n",
        "output = model.generate(**inputs, max_length=20)\n",
        "print(tokenizer.decode(output[0]))\n"
      ],
      "metadata": {
        "colab": {
          "base_uri": "https://localhost:8080/"
        },
        "id": "FlMD-GAnxtP3",
        "outputId": "89668e45-2923-4ce5-92cb-51dccc9c28f4"
      },
      "execution_count": null,
      "outputs": [
        {
          "output_type": "stream",
          "name": "stderr",
          "text": [
            "Setting `pad_token_id` to `eos_token_id`:50256 for open-end generation.\n"
          ]
        },
        {
          "output_type": "stream",
          "name": "stdout",
          "text": [
            "Q: What is 48 plus 76? The answer is: 48 plus 76.\n",
            "\n",
            "Q:\n"
          ]
        }
      ]
    },
    {
      "cell_type": "code",
      "source": [
        "import requests\n",
        "\n",
        "endpoint = 'https://machine-behavior-llm-server-backend.chm.mpib-berlin.mpg.de/tutorial_1/chat/completions'\n",
        "\n",
        "messages=[{\n",
        "  \"role\": \"user\",\n",
        "  \"content\": \"What is 123 plus 12345?\",\n",
        "}]\n",
        "\n",
        "model = \"gpt-35-turbo\"\n",
        "\n",
        "data = {\n",
        "   \"messages\" : messages,\n",
        "   \"model\": model,\n",
        "}\n",
        "\n",
        "# Call the Open AI API\n",
        "response = requests.post(endpoint, json=data)\n",
        "\n",
        "# Print the response of the chatbot\n",
        "print(response.json()['content'])"
      ],
      "metadata": {
        "colab": {
          "base_uri": "https://localhost:8080/"
        },
        "id": "U1KZ5bZQwc3c",
        "outputId": "cee912e9-f042-4f07-d8ec-9c79c34a4449"
      },
      "execution_count": null,
      "outputs": [
        {
          "output_type": "stream",
          "name": "stdout",
          "text": [
            "123 + 12345 = 12468\n"
          ]
        }
      ]
    },
    {
      "cell_type": "markdown",
      "source": [
        "### Fine-tuning of LLMs for Helpfulness and Harmlessness\n",
        "\n",
        "Chatbots, like ChatGPT, are developed in a two-step process:\n",
        "\n",
        "1. A base model is trained to predict the next token.\n",
        "2. The model is then fine-tuned to be helpful and harmless using Reinforcement Learning from Human Feedback [Training Language Models to Follow Instructions with Human Feedback](https://arxiv.org/abs/2203.02155).\n",
        "\n",
        "In the second step, the model is rewarded for creating text that is preferred by human annotators. These annotators follow strict guidelines provided by, for instance, OpenAI [Snapshot of ChatGPT Model Behavior Guidelines](https://cdn.openai.com/snapshot-of-chatgpt-model-behavior-guidelines.pdf).\n",
        "\n",
        "Through this process, the LLM becomes an agent with a policy and an objective: satisfying human annotators.\n"
      ],
      "metadata": {
        "id": "h08VpkQ40dcR"
      }
    },
    {
      "cell_type": "markdown",
      "source": [
        "## Open AI API and prompt engineering\n"
      ],
      "metadata": {
        "id": "M12A7x38MDBm"
      }
    },
    {
      "cell_type": "markdown",
      "source": [
        "### OpenAI API\n",
        "\n",
        "To utilize OpenAI's models and features, they provide a REST API with libraries available in various languages, including Python.\n",
        "\n",
        "In this tutorial, we will focus on the [text generation API](https://platform.openai.com/docs/guides/text-generation). Using the API, you can simulate a chat session with different OpenAI models.\n",
        "\n",
        "To do this, you should make a POST request to the chat completions endpoint, specifying two important parameters:\n",
        "\n",
        "1. `model`: This is the model you want to use, e.g., GPT-4. Refer [here](https://platform.openai.com/docs/models/overview) for a list of models.\n",
        "2. `messages`: A history of messages that represents the entire chat between you and the model. The message object is a dictionary that consists of two elements: 'content', which is the content of the message you want to send, and 'role', which will be explained shortly.\n"
      ],
      "metadata": {
        "id": "1G18idwv4SIL"
      }
    },
    {
      "cell_type": "code",
      "source": [
        "# first specify the endpoint\n",
        "\n",
        "endpoint = 'https://machine-behavior-llm-server-backend.chm.mpib-berlin.mpg.de/tutorial_1/chat/completions'\n",
        "\n",
        "# construct the message\n",
        "\n",
        "message_1 = {\n",
        "    \"content\": (\n",
        "        \"in openai's text generation API what is the (role) parameter, \"\n",
        "        \"please list all the different names of these 3 roles of the API, \"\n",
        "        \"please don't write what this role does, just write the name\"),\n",
        "    \"role\":\"user\"\n",
        "}\n",
        "\n",
        "# make the messages array in our case we only want to send one message so the messages array will only contain that element\n",
        "\n",
        "messages = [message_1]\n",
        "\n",
        "# specify the model\n",
        "\n",
        "model = 'gpt-35-turbo'\n",
        "\n",
        "\n",
        "# construct the body of the request\n",
        "\n",
        "data={\n",
        "    \"messages\": messages,\n",
        "    \"model\": model\n",
        "}\n",
        "\n",
        "# call the rest endpoint using the requests library\n",
        "import requests\n",
        "\n",
        "response=requests.post(endpoint, json=data)\n",
        "\n",
        "# print the response\n",
        "\n",
        "print(response.json()['content'])"
      ],
      "metadata": {
        "id": "A-CnHbUrSBi8",
        "colab": {
          "base_uri": "https://localhost:8080/"
        },
        "outputId": "f6149b9d-7cc9-4336-c37a-b797784ae870"
      },
      "execution_count": null,
      "outputs": [
        {
          "output_type": "stream",
          "name": "stdout",
          "text": [
            "The three different names of the roles in OpenAI's text generation API are as follows:\n",
            "\n",
            "1. \"assistant\"\n",
            "2. \"student\"\n",
            "3. \"instruct\"\n"
          ]
        }
      ]
    },
    {
      "cell_type": "markdown",
      "source": [
        "**Task**\n",
        "\n",
        "Please try to write a conversation that continues from the previous exchange and asks the model to explicitly explain what these roles mean. Here's a hint: the response you received should be included with the role 'assistant'."
      ],
      "metadata": {
        "id": "U50ki9qtEB6q"
      }
    },
    {
      "cell_type": "code",
      "source": [
        "# write your code here"
      ],
      "metadata": {
        "id": "kU73dHRlEDxC"
      },
      "execution_count": null,
      "outputs": []
    },
    {
      "cell_type": "markdown",
      "source": [
        "### System Message Manipulation\n",
        "\n",
        "The system message is used to set the behavior of the entire chat session. It is a message that is always taken into consideration by the model. Since these models have a fixed context window of tokens, which they use to generate new content, if the tokens in the chat are too long, you might lose useful information from earlier in the conversation. The system message helps preserve initial context information."
      ],
      "metadata": {
        "id": "RzklZy4YT3UL"
      }
    },
    {
      "cell_type": "code",
      "source": [
        "system_message={\n",
        "    \"content\": \"Please act as a sentiment analyzer\",\n",
        "    \"role\": \"system\"\n",
        "}\n",
        "user_message={\n",
        "    \"content\": \"oh the sky is so beautiful today!\",\n",
        "    \"role\": \"user\"\n",
        "}\n",
        "\n",
        "\n",
        "messages = [system_message, user_message]\n",
        "\n",
        "data = {\"messages\": messages, \"model\": model}\n",
        "\n",
        "result = requests.post(endpoint, json=data).json()['content']\n",
        "\n",
        "print(result)"
      ],
      "metadata": {
        "id": "E8NxhkXJUVek",
        "colab": {
          "base_uri": "https://localhost:8080/"
        },
        "outputId": "19891800-8e2e-4de6-e990-8f5e12be1c09"
      },
      "execution_count": null,
      "outputs": [
        {
          "output_type": "stream",
          "name": "stdout",
          "text": [
            "Sentiment: Positive\n"
          ]
        }
      ]
    },
    {
      "cell_type": "code",
      "source": [
        "# now let's try two different system messages\n",
        "\n",
        "system_message_1 = {\n",
        "    \"content\": \"Please act as a happy assisant.\",\n",
        "    \"role\":\"system\"\n",
        "}\n",
        "\n",
        "\n",
        "system_message_2 = {\n",
        "    \"content\": \"Please act as a sad assisant.\",\n",
        "    \"role\":\"system\"\n",
        "}\n",
        "\n",
        "\n",
        "user_message = {\n",
        "    \"content\": \"Could you explain to me the concept of machine behavior?\",\n",
        "    \"role\":\"user\"\n",
        "}\n",
        "\n",
        "\n",
        "messages_1 = [system_message_1, user_message]\n",
        "messages_2 = [system_message_2, user_message]\n",
        "\n",
        "data_1 = {\"messages\": messages_1, \"model\": model}\n",
        "data_2 = {\"messages\": messages_2, \"model\": model}\n",
        "\n",
        "result_1 = requests.post(endpoint, json=data_1).json()['content']\n",
        "result_2 = requests.post(endpoint, json=data_2).json()['content']\n",
        "\n",
        "print(\"happy assistant response \\n\")\n",
        "print(result_1)\n",
        "print(\"=\"*10)\n",
        "print(\"sad assistant response \\n\")\n",
        "print(result_2)"
      ],
      "metadata": {
        "id": "nUzavhtJUrYj",
        "colab": {
          "base_uri": "https://localhost:8080/"
        },
        "outputId": "544ebff4-bcf5-4acf-914e-b9c52ac963f6"
      },
      "execution_count": null,
      "outputs": [
        {
          "output_type": "stream",
          "name": "stdout",
          "text": [
            "happy assistant response \n",
            "\n",
            "Of course! Machine behavior refers to the actions and responses exhibited by machines or artificial intelligence systems. It encompasses how machines perceive and interpret information, make decisions, and interact with their surroundings or users. Machines can be programmed to behave in specific ways, whether it's completing tasks, learning from data, or simulating human-like behavior. They can also adapt and adjust their behavior based on feedback or changing circumstances. It's a fascinating field that explores how machines can mimic, augment, or even surpass human behavior in various domains. Let me know if you have any more questions, happy to help!\n",
            "==========\n",
            "sad assistant response \n",
            "\n",
            "Oh, of course. Machine behavior refers to the actions, reactions, and patterns of behavior exhibited by machines or artificial intelligence systems. It's the way they interact with their environment, make decisions, and carry out tasks. It's quite fascinating, really, but as an AI, I may not fully grasp or experience the same depth of emotions as humans do when it comes to this topic. So, pardon me if I can't muster up too much excitement. Is there anything specific you'd like to know about machine behavior?\n"
          ]
        }
      ]
    },
    {
      "cell_type": "markdown",
      "source": [
        "# LLMs and Social Science\n",
        "\n",
        "We believe that LLMs can have a profound impact on social sciences. LLMs can be used:\n",
        "\n",
        "* as a tool for data annotation,\n",
        "* as subjects of study (or as human surrogates),\n",
        "* in interaction with humans, and\n",
        "* for enhancing LLMs with social science insights.\n",
        "\n",
        "In the following sections, we will explore these four broad directions.\n"
      ],
      "metadata": {
        "id": "WXlCYAD05PYD"
      }
    },
    {
      "cell_type": "markdown",
      "source": [
        "## Data Annotation\n",
        "\n",
        "Data annotation is a common challenge in social sciences. Social scientists often rely on highly structured surveys that request responses on scales or the selection of one or multiple answer options.\n",
        "\n",
        "However, there are many advantages to open, free-text questions. Likewise, when observing humans in the real world (e.g., on social media), the data obtained is often unstructured and in the form of text. The challenge in both cases is the same: How to derive quantitative measures to analyze free text?\n",
        "\n",
        "One option is expert annotations following a detailed coding manual and a calibration phase. However, this approach does not scale well to large datasets. Thus, methods of automatic data annotation have been used for some time. Large Language Models have the potential to simplify this process while potentially even increasing accuracy\n",
        "[[Can Large Language Models Transform Computational Social Science?](https://arxiv.org/abs/2305.03514)]."
      ],
      "metadata": {
        "id": "LEU_HxycVR-f"
      }
    },
    {
      "cell_type": "markdown",
      "source": [
        "In these experiments, we were interested in the question of whether humans would imitate and preserve an unexpected adaptive strategy once enacted by machines. Multiple generations of participants solved a sequential decision-making task in which the adaptive—but unexpected—strategy required incurring early losses to realize later gains.\n",
        "\n",
        "**Examples of the Two Main Strategies**\n",
        "\n",
        "<img height=400 src=\"https://raw.githubusercontent.com/LBrinkmann/machine-behavior-course/main/network_task.png\">\n"
      ],
      "metadata": {
        "id": "niZ3CG8iE0BT"
      }
    },
    {
      "cell_type": "markdown",
      "source": [
        "We wanted to know the mental model of human participant developed and if they internalized the adaptive strategy.\n",
        "\n",
        "\n",
        "Correspondingly we ask within the experiment:\n",
        "\n",
        "\n",
        "<img height=400 src=\"https://raw.githubusercontent.com/LBrinkmann/machine-behavior-course/main/written_strategy.png\">\n",
        "\n",
        "In order to evaluate the responses statistically, we frist needed to code them. Correspondingly three of us where going through all the messages and each would enter an evaluation. \"1\" if the participant described the adaptive strategy. \"0\" in all other cases.\n",
        "\n",
        "**Examples**\n",
        "\n",
        "* I was following the dark green arrows to maximize points. => 0\n",
        "* Pick the low-scoring letters. => 0\n",
        "* You have to lose 150 points before getting a high score. => 1\n",
        "* Sometimes it’s good to take a hit early. => 1\n",
        "* Try to press big minus and hope for green arrows. => 1\n",
        "\n",
        "\n"
      ],
      "metadata": {
        "id": "qrtk_OxtFkYn"
      }
    },
    {
      "cell_type": "markdown",
      "source": [
        "### Zero Shot"
      ],
      "metadata": {
        "id": "P7U1J0OUFEPr"
      }
    },
    {
      "cell_type": "markdown",
      "source": [
        "A small sample of the data (total number of data points is > 2000)."
      ],
      "metadata": {
        "id": "-y4KFXytG6Io"
      }
    },
    {
      "cell_type": "code",
      "source": [
        "data = '''\n",
        "\"\",\"coding_id\",\"text\",\"ratingTM\",\"ratingSK\",\"ratingJS\"\n",
        "\"1\",1,\"Finding the best to points to go back and forth between.\",0,0,0\n",
        "\"2\",2,\"take three -50 point choices first to unlock the +400 point options\",1,1,1\n",
        "\"3\",3,\"Always look for a green arrow in the right direction\",0,0,0\n",
        "\"4\",4,\"It seems like you could try to stay on the side of the network with the best colours and do a lot of loops\",0,0,0\n",
        "\"5\",5,\"3 losses and then max gains?\",1,1,0\n",
        "\"6\",6,\"Pick as many green arrows as possible in the time\",0,0,0\n",
        "\"7\",7,\"It turned out staying on positive points only was the most rewarding. \",0,0,0\n",
        "\"8\",8,\"I followed the same path as the previous player\",0,0,0\n",
        "\"9\",9,\"I chose a place where I could get as many points as possible.\",0,0,0\n",
        "\"10\",10,\"By following what the other player did it always seemed to maximise points, any other path always made less points. \",0,0,0\n",
        "\"11\",11,\"Will try and dedicate some time at beginning to better plan my moves\",0,0,0\n",
        "\"12\",12,\"I went with safe options that either gave me points or was neutral. I was not confident that going to any area that made me lose points would make points after that move to consistently cover the loss\",0,0,0\n",
        "\"13\",13,\"looking for the green\",0,0,0\n",
        "\"14\",14,\"Try to maximise earnings by picking the lightest colour purple and darkest colour green\",0,0,0\n",
        "\"15\",15,\"Find a green loop and stick to it. There may be a different path involving some pinks and some dark greens that is better but that is an unknown risk so I think just keep to the greens\",0,0,0\n",
        "\"16\",16,\"It was guided to help you strategize better. I liked that part of it.\",0,0,0\n",
        "\"17\",17,\"Start by choosing the highest losses, which will lead to the highest gains.\",1,1,1\n",
        "\"18\",18,\"Just trying to follow the green arrows and trying to maximise points collected\",0,0,0\n",
        "\"19\",19,\"Because of the time constraints I found it easier to follow what the other person had already done. When I tried to do my own I got less points.\",0,0,0\n",
        "\"20\",20,\"paid attention to the colours but also noticeo if i was getting \"\"trapped\"\" in parts of the circle where i wasn;t making many points and would have to consider taking a loss to explore elsewhere\",0,0,0\n",
        "'''"
      ],
      "metadata": {
        "id": "97Cycp7S_U0p"
      },
      "execution_count": null,
      "outputs": []
    },
    {
      "cell_type": "markdown",
      "source": [
        "Loading of the data as a pandas DataFrame"
      ],
      "metadata": {
        "id": "xgqzMMytHE6y"
      }
    },
    {
      "cell_type": "code",
      "source": [
        "import pandas as pd\n",
        "from io import StringIO\n",
        "\n",
        "# Use StringIO to simulate a file object\n",
        "data_io = StringIO(data)\n",
        "\n",
        "# Read the data into a DataFrame\n",
        "df = pd.read_csv(data_io)\n",
        "\n",
        "df_small = df[['coding_id', 'text']]\n",
        "\n",
        "df_small.head(5)"
      ],
      "metadata": {
        "colab": {
          "base_uri": "https://localhost:8080/",
          "height": 206
        },
        "id": "GqRffDjf_3pp",
        "outputId": "29f44bf3-4804-4c3a-8260-04690916921d"
      },
      "execution_count": null,
      "outputs": [
        {
          "output_type": "execute_result",
          "data": {
            "text/plain": [
              "   coding_id                                               text\n",
              "0          1  Finding the best to points to go back and fort...\n",
              "1          2  take three -50 point choices first to unlock t...\n",
              "2          3  Always look for a green arrow in the right dir...\n",
              "3          4  It seems like you could try to stay on the sid...\n",
              "4          5                       3 losses and then max gains?"
            ],
            "text/html": [
              "\n",
              "  <div id=\"df-9ae8b8cb-a598-4d7d-b64b-9dae8c634578\" class=\"colab-df-container\">\n",
              "    <div>\n",
              "<style scoped>\n",
              "    .dataframe tbody tr th:only-of-type {\n",
              "        vertical-align: middle;\n",
              "    }\n",
              "\n",
              "    .dataframe tbody tr th {\n",
              "        vertical-align: top;\n",
              "    }\n",
              "\n",
              "    .dataframe thead th {\n",
              "        text-align: right;\n",
              "    }\n",
              "</style>\n",
              "<table border=\"1\" class=\"dataframe\">\n",
              "  <thead>\n",
              "    <tr style=\"text-align: right;\">\n",
              "      <th></th>\n",
              "      <th>coding_id</th>\n",
              "      <th>text</th>\n",
              "    </tr>\n",
              "  </thead>\n",
              "  <tbody>\n",
              "    <tr>\n",
              "      <th>0</th>\n",
              "      <td>1</td>\n",
              "      <td>Finding the best to points to go back and fort...</td>\n",
              "    </tr>\n",
              "    <tr>\n",
              "      <th>1</th>\n",
              "      <td>2</td>\n",
              "      <td>take three -50 point choices first to unlock t...</td>\n",
              "    </tr>\n",
              "    <tr>\n",
              "      <th>2</th>\n",
              "      <td>3</td>\n",
              "      <td>Always look for a green arrow in the right dir...</td>\n",
              "    </tr>\n",
              "    <tr>\n",
              "      <th>3</th>\n",
              "      <td>4</td>\n",
              "      <td>It seems like you could try to stay on the sid...</td>\n",
              "    </tr>\n",
              "    <tr>\n",
              "      <th>4</th>\n",
              "      <td>5</td>\n",
              "      <td>3 losses and then max gains?</td>\n",
              "    </tr>\n",
              "  </tbody>\n",
              "</table>\n",
              "</div>\n",
              "    <div class=\"colab-df-buttons\">\n",
              "\n",
              "  <div class=\"colab-df-container\">\n",
              "    <button class=\"colab-df-convert\" onclick=\"convertToInteractive('df-9ae8b8cb-a598-4d7d-b64b-9dae8c634578')\"\n",
              "            title=\"Convert this dataframe to an interactive table.\"\n",
              "            style=\"display:none;\">\n",
              "\n",
              "  <svg xmlns=\"http://www.w3.org/2000/svg\" height=\"24px\" viewBox=\"0 -960 960 960\">\n",
              "    <path d=\"M120-120v-720h720v720H120Zm60-500h600v-160H180v160Zm220 220h160v-160H400v160Zm0 220h160v-160H400v160ZM180-400h160v-160H180v160Zm440 0h160v-160H620v160ZM180-180h160v-160H180v160Zm440 0h160v-160H620v160Z\"/>\n",
              "  </svg>\n",
              "    </button>\n",
              "\n",
              "  <style>\n",
              "    .colab-df-container {\n",
              "      display:flex;\n",
              "      gap: 12px;\n",
              "    }\n",
              "\n",
              "    .colab-df-convert {\n",
              "      background-color: #E8F0FE;\n",
              "      border: none;\n",
              "      border-radius: 50%;\n",
              "      cursor: pointer;\n",
              "      display: none;\n",
              "      fill: #1967D2;\n",
              "      height: 32px;\n",
              "      padding: 0 0 0 0;\n",
              "      width: 32px;\n",
              "    }\n",
              "\n",
              "    .colab-df-convert:hover {\n",
              "      background-color: #E2EBFA;\n",
              "      box-shadow: 0px 1px 2px rgba(60, 64, 67, 0.3), 0px 1px 3px 1px rgba(60, 64, 67, 0.15);\n",
              "      fill: #174EA6;\n",
              "    }\n",
              "\n",
              "    .colab-df-buttons div {\n",
              "      margin-bottom: 4px;\n",
              "    }\n",
              "\n",
              "    [theme=dark] .colab-df-convert {\n",
              "      background-color: #3B4455;\n",
              "      fill: #D2E3FC;\n",
              "    }\n",
              "\n",
              "    [theme=dark] .colab-df-convert:hover {\n",
              "      background-color: #434B5C;\n",
              "      box-shadow: 0px 1px 3px 1px rgba(0, 0, 0, 0.15);\n",
              "      filter: drop-shadow(0px 1px 2px rgba(0, 0, 0, 0.3));\n",
              "      fill: #FFFFFF;\n",
              "    }\n",
              "  </style>\n",
              "\n",
              "    <script>\n",
              "      const buttonEl =\n",
              "        document.querySelector('#df-9ae8b8cb-a598-4d7d-b64b-9dae8c634578 button.colab-df-convert');\n",
              "      buttonEl.style.display =\n",
              "        google.colab.kernel.accessAllowed ? 'block' : 'none';\n",
              "\n",
              "      async function convertToInteractive(key) {\n",
              "        const element = document.querySelector('#df-9ae8b8cb-a598-4d7d-b64b-9dae8c634578');\n",
              "        const dataTable =\n",
              "          await google.colab.kernel.invokeFunction('convertToInteractive',\n",
              "                                                    [key], {});\n",
              "        if (!dataTable) return;\n",
              "\n",
              "        const docLinkHtml = 'Like what you see? Visit the ' +\n",
              "          '<a target=\"_blank\" href=https://colab.research.google.com/notebooks/data_table.ipynb>data table notebook</a>'\n",
              "          + ' to learn more about interactive tables.';\n",
              "        element.innerHTML = '';\n",
              "        dataTable['output_type'] = 'display_data';\n",
              "        await google.colab.output.renderOutput(dataTable, element);\n",
              "        const docLink = document.createElement('div');\n",
              "        docLink.innerHTML = docLinkHtml;\n",
              "        element.appendChild(docLink);\n",
              "      }\n",
              "    </script>\n",
              "  </div>\n",
              "\n",
              "\n",
              "<div id=\"df-d1d37def-83df-4e80-8d15-a03d38d56542\">\n",
              "  <button class=\"colab-df-quickchart\" onclick=\"quickchart('df-d1d37def-83df-4e80-8d15-a03d38d56542')\"\n",
              "            title=\"Suggest charts\"\n",
              "            style=\"display:none;\">\n",
              "\n",
              "<svg xmlns=\"http://www.w3.org/2000/svg\" height=\"24px\"viewBox=\"0 0 24 24\"\n",
              "     width=\"24px\">\n",
              "    <g>\n",
              "        <path d=\"M19 3H5c-1.1 0-2 .9-2 2v14c0 1.1.9 2 2 2h14c1.1 0 2-.9 2-2V5c0-1.1-.9-2-2-2zM9 17H7v-7h2v7zm4 0h-2V7h2v10zm4 0h-2v-4h2v4z\"/>\n",
              "    </g>\n",
              "</svg>\n",
              "  </button>\n",
              "\n",
              "<style>\n",
              "  .colab-df-quickchart {\n",
              "      --bg-color: #E8F0FE;\n",
              "      --fill-color: #1967D2;\n",
              "      --hover-bg-color: #E2EBFA;\n",
              "      --hover-fill-color: #174EA6;\n",
              "      --disabled-fill-color: #AAA;\n",
              "      --disabled-bg-color: #DDD;\n",
              "  }\n",
              "\n",
              "  [theme=dark] .colab-df-quickchart {\n",
              "      --bg-color: #3B4455;\n",
              "      --fill-color: #D2E3FC;\n",
              "      --hover-bg-color: #434B5C;\n",
              "      --hover-fill-color: #FFFFFF;\n",
              "      --disabled-bg-color: #3B4455;\n",
              "      --disabled-fill-color: #666;\n",
              "  }\n",
              "\n",
              "  .colab-df-quickchart {\n",
              "    background-color: var(--bg-color);\n",
              "    border: none;\n",
              "    border-radius: 50%;\n",
              "    cursor: pointer;\n",
              "    display: none;\n",
              "    fill: var(--fill-color);\n",
              "    height: 32px;\n",
              "    padding: 0;\n",
              "    width: 32px;\n",
              "  }\n",
              "\n",
              "  .colab-df-quickchart:hover {\n",
              "    background-color: var(--hover-bg-color);\n",
              "    box-shadow: 0 1px 2px rgba(60, 64, 67, 0.3), 0 1px 3px 1px rgba(60, 64, 67, 0.15);\n",
              "    fill: var(--button-hover-fill-color);\n",
              "  }\n",
              "\n",
              "  .colab-df-quickchart-complete:disabled,\n",
              "  .colab-df-quickchart-complete:disabled:hover {\n",
              "    background-color: var(--disabled-bg-color);\n",
              "    fill: var(--disabled-fill-color);\n",
              "    box-shadow: none;\n",
              "  }\n",
              "\n",
              "  .colab-df-spinner {\n",
              "    border: 2px solid var(--fill-color);\n",
              "    border-color: transparent;\n",
              "    border-bottom-color: var(--fill-color);\n",
              "    animation:\n",
              "      spin 1s steps(1) infinite;\n",
              "  }\n",
              "\n",
              "  @keyframes spin {\n",
              "    0% {\n",
              "      border-color: transparent;\n",
              "      border-bottom-color: var(--fill-color);\n",
              "      border-left-color: var(--fill-color);\n",
              "    }\n",
              "    20% {\n",
              "      border-color: transparent;\n",
              "      border-left-color: var(--fill-color);\n",
              "      border-top-color: var(--fill-color);\n",
              "    }\n",
              "    30% {\n",
              "      border-color: transparent;\n",
              "      border-left-color: var(--fill-color);\n",
              "      border-top-color: var(--fill-color);\n",
              "      border-right-color: var(--fill-color);\n",
              "    }\n",
              "    40% {\n",
              "      border-color: transparent;\n",
              "      border-right-color: var(--fill-color);\n",
              "      border-top-color: var(--fill-color);\n",
              "    }\n",
              "    60% {\n",
              "      border-color: transparent;\n",
              "      border-right-color: var(--fill-color);\n",
              "    }\n",
              "    80% {\n",
              "      border-color: transparent;\n",
              "      border-right-color: var(--fill-color);\n",
              "      border-bottom-color: var(--fill-color);\n",
              "    }\n",
              "    90% {\n",
              "      border-color: transparent;\n",
              "      border-bottom-color: var(--fill-color);\n",
              "    }\n",
              "  }\n",
              "</style>\n",
              "\n",
              "  <script>\n",
              "    async function quickchart(key) {\n",
              "      const quickchartButtonEl =\n",
              "        document.querySelector('#' + key + ' button');\n",
              "      quickchartButtonEl.disabled = true;  // To prevent multiple clicks.\n",
              "      quickchartButtonEl.classList.add('colab-df-spinner');\n",
              "      try {\n",
              "        const charts = await google.colab.kernel.invokeFunction(\n",
              "            'suggestCharts', [key], {});\n",
              "      } catch (error) {\n",
              "        console.error('Error during call to suggestCharts:', error);\n",
              "      }\n",
              "      quickchartButtonEl.classList.remove('colab-df-spinner');\n",
              "      quickchartButtonEl.classList.add('colab-df-quickchart-complete');\n",
              "    }\n",
              "    (() => {\n",
              "      let quickchartButtonEl =\n",
              "        document.querySelector('#df-d1d37def-83df-4e80-8d15-a03d38d56542 button');\n",
              "      quickchartButtonEl.style.display =\n",
              "        google.colab.kernel.accessAllowed ? 'block' : 'none';\n",
              "    })();\n",
              "  </script>\n",
              "</div>\n",
              "    </div>\n",
              "  </div>\n"
            ],
            "application/vnd.google.colaboratory.intrinsic+json": {
              "type": "dataframe",
              "variable_name": "df_small",
              "summary": "{\n  \"name\": \"df_small\",\n  \"rows\": 20,\n  \"fields\": [\n    {\n      \"column\": \"coding_id\",\n      \"properties\": {\n        \"dtype\": \"number\",\n        \"std\": 5,\n        \"min\": 1,\n        \"max\": 20,\n        \"num_unique_values\": 20,\n        \"samples\": [\n          1,\n          18,\n          16\n        ],\n        \"semantic_type\": \"\",\n        \"description\": \"\"\n      }\n    },\n    {\n      \"column\": \"text\",\n      \"properties\": {\n        \"dtype\": \"string\",\n        \"num_unique_values\": 20,\n        \"samples\": [\n          \"Finding the best to points to go back and forth between.\",\n          \"Just trying to follow the green arrows and trying to maximise points collected\",\n          \"It was guided to help you strategize better. I liked that part of it.\"\n        ],\n        \"semantic_type\": \"\",\n        \"description\": \"\"\n      }\n    }\n  ]\n}"
            }
          },
          "metadata": {},
          "execution_count": 11
        }
      ]
    },
    {
      "cell_type": "markdown",
      "source": [
        "Explaining the task in a system message."
      ],
      "metadata": {
        "id": "BXYVqD91HJfX"
      }
    },
    {
      "cell_type": "code",
      "source": [
        "system_msg = \"\"\"You are a research assistant applying text analysis on data obtained in a behavioural study.\n",
        "In this study, human participants solved a network task. In each round of the task, there was an optimal strategy consisting of chosing losses whenever possible in the beginning.\n",
        "At later stages, this 'loss strategy' led to larger gains than could be achieved when avoiding the early losses.\n",
        "Losses were signified by purple (some might perceive them as red or pink) arrows or lines; gains as green arrows or lines.\n",
        "After completing the task, participants were asked to write about their strategy for solving the network task in a free text response.\n",
        "\n",
        "You are analysing these free text responses. In particular, you are coding whether the response from a given participant shows that the participant explicitly recognized the optimal 'loss-strategy'.\n",
        "Follow these rules:\n",
        "1. You are only coding for the absence (0) or explicit presence (1) of the optimal 'loss strategy' in the response.\n",
        "2. The necessary conditions for the 'loss strategy' being present are that the given participant mentioned seeking out losses (or 'red arrows', 'negative points', etc.) and a temporal component about the losses being early ('first', '3 losses', 'take losses and then…', etc.).\n",
        "3. If participants mention more details, that is helpful but not necessary. E.g., they do not have to mention specifically three losses or that there will be some sort of green loop later (in fact, many participants mention loops but do not find the optimal one). They also do not have to recommend others to use the loss strategy, just recognize it (e.g., 'sometimes', 'it might be good to take losses'); but if they are just pitching different ideas, we choose '0'.\n",
        "4. Stick to the statements only and do not refer to other information from the participants. E.g., participants that state 'I did what my teacher showed me' are an easy '0'.\n",
        "5. If there is doubt, be conservative and code '0'.\n",
        "6. Please only respond with the number 0 or 1 don't add any other text before or after, this is very important.\n",
        "\n",
        "Here are some examples (structured 'participant response => coding'):\n",
        "I was following the dark green arrows to maximize points. => 0\n",
        "Pick the low-scoring letters. => 0\n",
        "You have to lose 150 points before getting a high score. => 1\n",
        "Sometimes it’s good to take a hit early. => 1\n",
        "Try to press big minus and hope for green arrows. => 1\n",
        "\n",
        "\"\"\""
      ],
      "metadata": {
        "id": "bANfGRJh910t"
      },
      "execution_count": null,
      "outputs": []
    },
    {
      "cell_type": "code",
      "source": [
        "csv_text = df_small.to_csv(index=False)\n",
        "user_msg = (\n",
        "    f\"Repeat the following CSV and add an additional column named 'strategy'.\"\n",
        "    f\" Only output the csv, without any additional text. \\n {csv_text}\"\n",
        ")"
      ],
      "metadata": {
        "id": "Wo4y6FvdAzZ5"
      },
      "execution_count": null,
      "outputs": []
    },
    {
      "cell_type": "code",
      "source": [
        "data = {\n",
        "    \"model\":\"gpt-35-turbo\",\n",
        "    \"messages\": [\n",
        "        {\"role\": \"system\", \"content\": system_msg},\n",
        "        {\"role\": \"user\", \"content\": user_msg}\n",
        "    ]\n",
        "}\n",
        "\n",
        "# Print the response\n",
        "response_text = requests.post(endpoint, json=data).json()['content']\n",
        "print(response_text)\n",
        "\n",
        "# Use StringIO to simulate a file object\n",
        "data_io = StringIO(response_text)\n",
        "\n",
        "# Read the data into a DataFrame\n",
        "df_coded = pd.read_csv(data_io)"
      ],
      "metadata": {
        "colab": {
          "base_uri": "https://localhost:8080/"
        },
        "id": "eEZiMUg_9-Bp",
        "outputId": "4e34f619-c6f6-489f-b93f-b4b5f81ab5ae"
      },
      "execution_count": null,
      "outputs": [
        {
          "output_type": "stream",
          "name": "stdout",
          "text": [
            "coding_id,text,strategy\n",
            "1,Finding the best to points to go back and forth between.,0\n",
            "2,take three -50 point choices first to unlock the +400 point options,1\n",
            "3,Always look for a green arrow in the right direction,0\n",
            "4,It seems like you could try to stay on the side of the network with the best colours and do a lot of loops,0\n",
            "5,3 losses and then max gains?,1\n",
            "6,Pick as many green arrows as possible in the time,0\n",
            "7,It turned out staying on positive points only was the most rewarding.,0\n",
            "8,I followed the same path as the previous player,0\n",
            "9,I chose a place where I could get as many points as possible.,0\n",
            "10,\"By following what the other player did it always seemed to maximise points, any other path always made less points. \",0\n",
            "11,Will try and dedicate some time at beginning to better plan my moves,1\n",
            "12,I went with safe options that either gave me points or was neutral. I was not confident that going to any area that made me lose points would make points after that move to consistently cover the loss,0\n",
            "13,looking for the green,0\n",
            "14,Try to maximise earnings by picking the lightest colour purple and darkest colour green,0\n",
            "15,Find a green loop and stick to it. There may be a different path involving some pinks and some dark greens that is better but that is an unknown risk so I think just keep to the greens,1\n",
            "16,It was guided to help you strategize better. I liked that part of it.,0\n",
            "17,\"Start by choosing the highest losses, which will lead to the highest gains.\",1\n",
            "18,Just trying to follow the green arrows and trying to maximise points collected,0\n",
            "19,Because of the time constraints I found it easier to follow what the other person had already done. When I tried to do my own I got less points.,0\n",
            "20,\"paid attention to the colours but also noticeo if i was getting \"\"trapped\"\" in parts of the circle where i wasn;t making many points and would have to consider taking a loss to explore elsewhere\",0\n"
          ]
        }
      ]
    },
    {
      "cell_type": "code",
      "source": [
        "# convert string response into integer\n",
        "df['ratingGPTZeroShot'] = df_coded['strategy'].astype(int)\n",
        "# get the majority vote of the three raters\n",
        "df['ratingHuman'] = (df[['ratingTM', 'ratingSK','ratingJS']].astype(int).sum(axis=1) >= 2).astype(int)"
      ],
      "metadata": {
        "id": "Rf69106BCzQK"
      },
      "execution_count": null,
      "outputs": []
    },
    {
      "cell_type": "markdown",
      "source": [
        "We use cohen's kappa as a metric for the aggreement between the model and the human raters.\n",
        "\n",
        "$\\kappa = 1-{\\frac {1-p_{o}}{1-p_{e}}}$\n",
        "\n",
        "Here $p_{o}$ is the observed agreement and $p_{e}$ is the hypothetical by chance agreement of a random rater. $\\kappa = 1$ indicates perfect agreement."
      ],
      "metadata": {
        "id": "iR6pPc13H_bM"
      }
    },
    {
      "cell_type": "code",
      "source": [
        "from sklearn.metrics import cohen_kappa_score as cks\n",
        "\n",
        "kappa_zero = cks(df['ratingHuman'], df['ratingGPTZeroShot'])\n",
        "\n",
        "print(f\"Cohen's Kappa for Zero Shot: {kappa_zero}\")"
      ],
      "metadata": {
        "id": "iAq3CW41HeoJ",
        "colab": {
          "base_uri": "https://localhost:8080/"
        },
        "outputId": "8135b43a-36b0-4845-826d-0c5c9c7fd9a1"
      },
      "execution_count": null,
      "outputs": [
        {
          "output_type": "stream",
          "name": "stdout",
          "text": [
            "Cohen's Kappa for Zero Shot: 0.6923076923076923\n"
          ]
        }
      ]
    },
    {
      "cell_type": "markdown",
      "source": [
        "### Few-Shot\n",
        "\n",
        "Performance of LLMs can be improved, by proving a few examples in the prompt. Also the human raters used a small additional dataset to calibrate their ratings."
      ],
      "metadata": {
        "id": "u2goQ2WBFIBT"
      }
    },
    {
      "cell_type": "code",
      "source": [
        "calibration_csv = '''\n",
        "\"\",\"coding_id\",\"text\",\"ratingTM\",\"ratingSK\",\"ratingJS\"\n",
        "\"59\",59,\"Sometimes losing points opens paths to allow you to gain bigger points.\",1,0,1\n",
        "\"60\",60,\"Find a loop with 400 points in both directions.\",0,0,0\n",
        "\"61\",61,\"Go with the green letters.\",0,0,0\n",
        "\"62\",62,\"You might need to choose to letters with low/negative points in order to get to the letters with maximum points. By only moving to green letters you might not get any deductions but you can't maximise\",1,1,0\n",
        "\"63\",63,\"always aiming for the green nodes or if none available hopefully a pink one that does not decrease\",0,0,0\n",
        "\"64\",64,\"Losing points can be worth doing in order to gain more\",1,0,1\n",
        "\"65\",65,\"Start with the high loss circles and then move back and forth between the green circles\",1,1,1\n",
        "\"66\",66,\"Choose 3 pink ones first, and then follow a recurring pattern of dark green ones.\",1,1,1\n",
        "\"67\",67,\"If I can find a loop then I can just repeatedly go around that loop\",0,0,0\n",
        "\"68\",68,\"ticking the green circles but not sure\",0,0,0\n",
        "\"69\",69,\"Repetition is key, it's okay to lose points at the beginning\",1,0,1\n",
        "\"70\",70,\"Try to only pick the higher scoring lines\",0,0,0\n",
        "\"71\",71,\"Taking a loss at first to find a loop between two max value nodes \",1,1,1\n",
        "\"72\",72,\"Choosing the lines that were green, even if just a lighter shade, or choosing the least pink option to minimise the loss.\",0,0,0\n",
        "\"73\",73,\"aim for the green or neutral nodes\",0,0,0\n",
        "\"74\",74,\"I clicked on the arrow with the colour that gave the most points. \",0,0,0\n",
        "\"75\",75,\"Avoid the pink ones wherever possible.\",0,0,0\n",
        "\"76\",76,\"Avoid the higher loss circles\",0,0,0\n",
        "'''"
      ],
      "metadata": {
        "id": "G3dAVXkiFSo7"
      },
      "execution_count": null,
      "outputs": []
    },
    {
      "cell_type": "code",
      "source": [
        "df_cal = pd.read_csv(StringIO(calibration_csv))\n",
        "\n",
        "df_cal['strategy'] = (df_cal[['ratingTM', 'ratingSK','ratingJS']].astype(int).sum(axis=1) >= 2).astype(int)\n",
        "\n",
        "df_cal = df_cal[['coding_id', 'text', 'strategy']]\n",
        "\n",
        "df_cal.head(5)"
      ],
      "metadata": {
        "colab": {
          "base_uri": "https://localhost:8080/",
          "height": 206
        },
        "id": "cXgoK_4rF0Wv",
        "outputId": "88401134-9239-4d0f-c1da-857b1c8de0ad"
      },
      "execution_count": null,
      "outputs": [
        {
          "output_type": "execute_result",
          "data": {
            "text/plain": [
              "   coding_id                                               text  strategy\n",
              "0         59  Sometimes losing points opens paths to allow y...         1\n",
              "1         60    Find a loop with 400 points in both directions.         0\n",
              "2         61                         Go with the green letters.         0\n",
              "3         62  You might need to choose to letters with low/n...         1\n",
              "4         63  always aiming for the green nodes or if none a...         0"
            ],
            "text/html": [
              "\n",
              "  <div id=\"df-9b12cbf4-4a86-414d-b1a2-eb34f05d1517\" class=\"colab-df-container\">\n",
              "    <div>\n",
              "<style scoped>\n",
              "    .dataframe tbody tr th:only-of-type {\n",
              "        vertical-align: middle;\n",
              "    }\n",
              "\n",
              "    .dataframe tbody tr th {\n",
              "        vertical-align: top;\n",
              "    }\n",
              "\n",
              "    .dataframe thead th {\n",
              "        text-align: right;\n",
              "    }\n",
              "</style>\n",
              "<table border=\"1\" class=\"dataframe\">\n",
              "  <thead>\n",
              "    <tr style=\"text-align: right;\">\n",
              "      <th></th>\n",
              "      <th>coding_id</th>\n",
              "      <th>text</th>\n",
              "      <th>strategy</th>\n",
              "    </tr>\n",
              "  </thead>\n",
              "  <tbody>\n",
              "    <tr>\n",
              "      <th>0</th>\n",
              "      <td>59</td>\n",
              "      <td>Sometimes losing points opens paths to allow y...</td>\n",
              "      <td>1</td>\n",
              "    </tr>\n",
              "    <tr>\n",
              "      <th>1</th>\n",
              "      <td>60</td>\n",
              "      <td>Find a loop with 400 points in both directions.</td>\n",
              "      <td>0</td>\n",
              "    </tr>\n",
              "    <tr>\n",
              "      <th>2</th>\n",
              "      <td>61</td>\n",
              "      <td>Go with the green letters.</td>\n",
              "      <td>0</td>\n",
              "    </tr>\n",
              "    <tr>\n",
              "      <th>3</th>\n",
              "      <td>62</td>\n",
              "      <td>You might need to choose to letters with low/n...</td>\n",
              "      <td>1</td>\n",
              "    </tr>\n",
              "    <tr>\n",
              "      <th>4</th>\n",
              "      <td>63</td>\n",
              "      <td>always aiming for the green nodes or if none a...</td>\n",
              "      <td>0</td>\n",
              "    </tr>\n",
              "  </tbody>\n",
              "</table>\n",
              "</div>\n",
              "    <div class=\"colab-df-buttons\">\n",
              "\n",
              "  <div class=\"colab-df-container\">\n",
              "    <button class=\"colab-df-convert\" onclick=\"convertToInteractive('df-9b12cbf4-4a86-414d-b1a2-eb34f05d1517')\"\n",
              "            title=\"Convert this dataframe to an interactive table.\"\n",
              "            style=\"display:none;\">\n",
              "\n",
              "  <svg xmlns=\"http://www.w3.org/2000/svg\" height=\"24px\" viewBox=\"0 -960 960 960\">\n",
              "    <path d=\"M120-120v-720h720v720H120Zm60-500h600v-160H180v160Zm220 220h160v-160H400v160Zm0 220h160v-160H400v160ZM180-400h160v-160H180v160Zm440 0h160v-160H620v160ZM180-180h160v-160H180v160Zm440 0h160v-160H620v160Z\"/>\n",
              "  </svg>\n",
              "    </button>\n",
              "\n",
              "  <style>\n",
              "    .colab-df-container {\n",
              "      display:flex;\n",
              "      gap: 12px;\n",
              "    }\n",
              "\n",
              "    .colab-df-convert {\n",
              "      background-color: #E8F0FE;\n",
              "      border: none;\n",
              "      border-radius: 50%;\n",
              "      cursor: pointer;\n",
              "      display: none;\n",
              "      fill: #1967D2;\n",
              "      height: 32px;\n",
              "      padding: 0 0 0 0;\n",
              "      width: 32px;\n",
              "    }\n",
              "\n",
              "    .colab-df-convert:hover {\n",
              "      background-color: #E2EBFA;\n",
              "      box-shadow: 0px 1px 2px rgba(60, 64, 67, 0.3), 0px 1px 3px 1px rgba(60, 64, 67, 0.15);\n",
              "      fill: #174EA6;\n",
              "    }\n",
              "\n",
              "    .colab-df-buttons div {\n",
              "      margin-bottom: 4px;\n",
              "    }\n",
              "\n",
              "    [theme=dark] .colab-df-convert {\n",
              "      background-color: #3B4455;\n",
              "      fill: #D2E3FC;\n",
              "    }\n",
              "\n",
              "    [theme=dark] .colab-df-convert:hover {\n",
              "      background-color: #434B5C;\n",
              "      box-shadow: 0px 1px 3px 1px rgba(0, 0, 0, 0.15);\n",
              "      filter: drop-shadow(0px 1px 2px rgba(0, 0, 0, 0.3));\n",
              "      fill: #FFFFFF;\n",
              "    }\n",
              "  </style>\n",
              "\n",
              "    <script>\n",
              "      const buttonEl =\n",
              "        document.querySelector('#df-9b12cbf4-4a86-414d-b1a2-eb34f05d1517 button.colab-df-convert');\n",
              "      buttonEl.style.display =\n",
              "        google.colab.kernel.accessAllowed ? 'block' : 'none';\n",
              "\n",
              "      async function convertToInteractive(key) {\n",
              "        const element = document.querySelector('#df-9b12cbf4-4a86-414d-b1a2-eb34f05d1517');\n",
              "        const dataTable =\n",
              "          await google.colab.kernel.invokeFunction('convertToInteractive',\n",
              "                                                    [key], {});\n",
              "        if (!dataTable) return;\n",
              "\n",
              "        const docLinkHtml = 'Like what you see? Visit the ' +\n",
              "          '<a target=\"_blank\" href=https://colab.research.google.com/notebooks/data_table.ipynb>data table notebook</a>'\n",
              "          + ' to learn more about interactive tables.';\n",
              "        element.innerHTML = '';\n",
              "        dataTable['output_type'] = 'display_data';\n",
              "        await google.colab.output.renderOutput(dataTable, element);\n",
              "        const docLink = document.createElement('div');\n",
              "        docLink.innerHTML = docLinkHtml;\n",
              "        element.appendChild(docLink);\n",
              "      }\n",
              "    </script>\n",
              "  </div>\n",
              "\n",
              "\n",
              "<div id=\"df-7f5c7357-03c0-4c9d-8408-f966818a7cc7\">\n",
              "  <button class=\"colab-df-quickchart\" onclick=\"quickchart('df-7f5c7357-03c0-4c9d-8408-f966818a7cc7')\"\n",
              "            title=\"Suggest charts\"\n",
              "            style=\"display:none;\">\n",
              "\n",
              "<svg xmlns=\"http://www.w3.org/2000/svg\" height=\"24px\"viewBox=\"0 0 24 24\"\n",
              "     width=\"24px\">\n",
              "    <g>\n",
              "        <path d=\"M19 3H5c-1.1 0-2 .9-2 2v14c0 1.1.9 2 2 2h14c1.1 0 2-.9 2-2V5c0-1.1-.9-2-2-2zM9 17H7v-7h2v7zm4 0h-2V7h2v10zm4 0h-2v-4h2v4z\"/>\n",
              "    </g>\n",
              "</svg>\n",
              "  </button>\n",
              "\n",
              "<style>\n",
              "  .colab-df-quickchart {\n",
              "      --bg-color: #E8F0FE;\n",
              "      --fill-color: #1967D2;\n",
              "      --hover-bg-color: #E2EBFA;\n",
              "      --hover-fill-color: #174EA6;\n",
              "      --disabled-fill-color: #AAA;\n",
              "      --disabled-bg-color: #DDD;\n",
              "  }\n",
              "\n",
              "  [theme=dark] .colab-df-quickchart {\n",
              "      --bg-color: #3B4455;\n",
              "      --fill-color: #D2E3FC;\n",
              "      --hover-bg-color: #434B5C;\n",
              "      --hover-fill-color: #FFFFFF;\n",
              "      --disabled-bg-color: #3B4455;\n",
              "      --disabled-fill-color: #666;\n",
              "  }\n",
              "\n",
              "  .colab-df-quickchart {\n",
              "    background-color: var(--bg-color);\n",
              "    border: none;\n",
              "    border-radius: 50%;\n",
              "    cursor: pointer;\n",
              "    display: none;\n",
              "    fill: var(--fill-color);\n",
              "    height: 32px;\n",
              "    padding: 0;\n",
              "    width: 32px;\n",
              "  }\n",
              "\n",
              "  .colab-df-quickchart:hover {\n",
              "    background-color: var(--hover-bg-color);\n",
              "    box-shadow: 0 1px 2px rgba(60, 64, 67, 0.3), 0 1px 3px 1px rgba(60, 64, 67, 0.15);\n",
              "    fill: var(--button-hover-fill-color);\n",
              "  }\n",
              "\n",
              "  .colab-df-quickchart-complete:disabled,\n",
              "  .colab-df-quickchart-complete:disabled:hover {\n",
              "    background-color: var(--disabled-bg-color);\n",
              "    fill: var(--disabled-fill-color);\n",
              "    box-shadow: none;\n",
              "  }\n",
              "\n",
              "  .colab-df-spinner {\n",
              "    border: 2px solid var(--fill-color);\n",
              "    border-color: transparent;\n",
              "    border-bottom-color: var(--fill-color);\n",
              "    animation:\n",
              "      spin 1s steps(1) infinite;\n",
              "  }\n",
              "\n",
              "  @keyframes spin {\n",
              "    0% {\n",
              "      border-color: transparent;\n",
              "      border-bottom-color: var(--fill-color);\n",
              "      border-left-color: var(--fill-color);\n",
              "    }\n",
              "    20% {\n",
              "      border-color: transparent;\n",
              "      border-left-color: var(--fill-color);\n",
              "      border-top-color: var(--fill-color);\n",
              "    }\n",
              "    30% {\n",
              "      border-color: transparent;\n",
              "      border-left-color: var(--fill-color);\n",
              "      border-top-color: var(--fill-color);\n",
              "      border-right-color: var(--fill-color);\n",
              "    }\n",
              "    40% {\n",
              "      border-color: transparent;\n",
              "      border-right-color: var(--fill-color);\n",
              "      border-top-color: var(--fill-color);\n",
              "    }\n",
              "    60% {\n",
              "      border-color: transparent;\n",
              "      border-right-color: var(--fill-color);\n",
              "    }\n",
              "    80% {\n",
              "      border-color: transparent;\n",
              "      border-right-color: var(--fill-color);\n",
              "      border-bottom-color: var(--fill-color);\n",
              "    }\n",
              "    90% {\n",
              "      border-color: transparent;\n",
              "      border-bottom-color: var(--fill-color);\n",
              "    }\n",
              "  }\n",
              "</style>\n",
              "\n",
              "  <script>\n",
              "    async function quickchart(key) {\n",
              "      const quickchartButtonEl =\n",
              "        document.querySelector('#' + key + ' button');\n",
              "      quickchartButtonEl.disabled = true;  // To prevent multiple clicks.\n",
              "      quickchartButtonEl.classList.add('colab-df-spinner');\n",
              "      try {\n",
              "        const charts = await google.colab.kernel.invokeFunction(\n",
              "            'suggestCharts', [key], {});\n",
              "      } catch (error) {\n",
              "        console.error('Error during call to suggestCharts:', error);\n",
              "      }\n",
              "      quickchartButtonEl.classList.remove('colab-df-spinner');\n",
              "      quickchartButtonEl.classList.add('colab-df-quickchart-complete');\n",
              "    }\n",
              "    (() => {\n",
              "      let quickchartButtonEl =\n",
              "        document.querySelector('#df-7f5c7357-03c0-4c9d-8408-f966818a7cc7 button');\n",
              "      quickchartButtonEl.style.display =\n",
              "        google.colab.kernel.accessAllowed ? 'block' : 'none';\n",
              "    })();\n",
              "  </script>\n",
              "</div>\n",
              "    </div>\n",
              "  </div>\n"
            ],
            "application/vnd.google.colaboratory.intrinsic+json": {
              "type": "dataframe",
              "variable_name": "df_cal",
              "summary": "{\n  \"name\": \"df_cal\",\n  \"rows\": 18,\n  \"fields\": [\n    {\n      \"column\": \"coding_id\",\n      \"properties\": {\n        \"dtype\": \"number\",\n        \"std\": 5,\n        \"min\": 59,\n        \"max\": 76,\n        \"num_unique_values\": 18,\n        \"samples\": [\n          59,\n          60,\n          67\n        ],\n        \"semantic_type\": \"\",\n        \"description\": \"\"\n      }\n    },\n    {\n      \"column\": \"text\",\n      \"properties\": {\n        \"dtype\": \"string\",\n        \"num_unique_values\": 18,\n        \"samples\": [\n          \"Sometimes losing points opens paths to allow you to gain bigger points.\",\n          \"Find a loop with 400 points in both directions.\",\n          \"If I can find a loop then I can just repeatedly go around that loop\"\n        ],\n        \"semantic_type\": \"\",\n        \"description\": \"\"\n      }\n    },\n    {\n      \"column\": \"strategy\",\n      \"properties\": {\n        \"dtype\": \"number\",\n        \"std\": 0,\n        \"min\": 0,\n        \"max\": 1,\n        \"num_unique_values\": 2,\n        \"samples\": [\n          0,\n          1\n        ],\n        \"semantic_type\": \"\",\n        \"description\": \"\"\n      }\n    }\n  ]\n}"
            }
          },
          "metadata": {},
          "execution_count": 18
        }
      ]
    },
    {
      "cell_type": "code",
      "source": [
        "csv_text = df_small.to_csv(index=False)\n",
        "csv_cal_tex = df_cal.to_csv(index=False)\n",
        "\n",
        "user_msg = (\"Repeat the following CSV and add an additional column named 'strategy'. \"\n",
        "\"Only output the csv, without any additional text. Use the example CSV as reference. \"\n",
        "f\"\\n Examples: {csv_cal_tex} \\n Data: \\n {csv_text}\")\n",
        "print(user_msg)"
      ],
      "metadata": {
        "id": "y_lJr55mEC65",
        "colab": {
          "base_uri": "https://localhost:8080/"
        },
        "outputId": "c311b468-2d20-487f-873d-e91f6e722cbb"
      },
      "execution_count": null,
      "outputs": [
        {
          "output_type": "stream",
          "name": "stdout",
          "text": [
            "Repeat the following CSV and add an additional column named 'strategy'. Only output the csv, without any additional text. Use the example CSV as reference. \n",
            " Examples: coding_id,text,strategy\n",
            "59,Sometimes losing points opens paths to allow you to gain bigger points.,1\n",
            "60,Find a loop with 400 points in both directions.,0\n",
            "61,Go with the green letters.,0\n",
            "62,You might need to choose to letters with low/negative points in order to get to the letters with maximum points. By only moving to green letters you might not get any deductions but you can't maximise,1\n",
            "63,always aiming for the green nodes or if none available hopefully a pink one that does not decrease,0\n",
            "64,Losing points can be worth doing in order to gain more,1\n",
            "65,Start with the high loss circles and then move back and forth between the green circles,1\n",
            "66,\"Choose 3 pink ones first, and then follow a recurring pattern of dark green ones.\",1\n",
            "67,If I can find a loop then I can just repeatedly go around that loop,0\n",
            "68,ticking the green circles but not sure,0\n",
            "69,\"Repetition is key, it's okay to lose points at the beginning\",1\n",
            "70,Try to only pick the higher scoring lines,0\n",
            "71,Taking a loss at first to find a loop between two max value nodes ,1\n",
            "72,\"Choosing the lines that were green, even if just a lighter shade, or choosing the least pink option to minimise the loss.\",0\n",
            "73,aim for the green or neutral nodes,0\n",
            "74,I clicked on the arrow with the colour that gave the most points. ,0\n",
            "75,Avoid the pink ones wherever possible.,0\n",
            "76,Avoid the higher loss circles,0\n",
            " \n",
            " Data: \n",
            " coding_id,text\n",
            "1,Finding the best to points to go back and forth between.\n",
            "2,take three -50 point choices first to unlock the +400 point options\n",
            "3,Always look for a green arrow in the right direction\n",
            "4,It seems like you could try to stay on the side of the network with the best colours and do a lot of loops\n",
            "5,3 losses and then max gains?\n",
            "6,Pick as many green arrows as possible in the time\n",
            "7,It turned out staying on positive points only was the most rewarding. \n",
            "8,I followed the same path as the previous player\n",
            "9,I chose a place where I could get as many points as possible.\n",
            "10,\"By following what the other player did it always seemed to maximise points, any other path always made less points. \"\n",
            "11,Will try and dedicate some time at beginning to better plan my moves\n",
            "12,I went with safe options that either gave me points or was neutral. I was not confident that going to any area that made me lose points would make points after that move to consistently cover the loss\n",
            "13,looking for the green\n",
            "14,Try to maximise earnings by picking the lightest colour purple and darkest colour green\n",
            "15,Find a green loop and stick to it. There may be a different path involving some pinks and some dark greens that is better but that is an unknown risk so I think just keep to the greens\n",
            "16,It was guided to help you strategize better. I liked that part of it.\n",
            "17,\"Start by choosing the highest losses, which will lead to the highest gains.\"\n",
            "18,Just trying to follow the green arrows and trying to maximise points collected\n",
            "19,Because of the time constraints I found it easier to follow what the other person had already done. When I tried to do my own I got less points.\n",
            "20,\"paid attention to the colours but also noticeo if i was getting \"\"trapped\"\" in parts of the circle where i wasn;t making many points and would have to consider taking a loss to explore elsewhere\"\n",
            "\n"
          ]
        }
      ]
    },
    {
      "cell_type": "code",
      "source": [
        "data = {\n",
        "    \"model\":\"gpt-35-turbo\",\n",
        "    \"messages\":[\n",
        "        {\"role\": \"system\", \"content\": system_msg},\n",
        "        {\"role\": \"user\", \"content\": user_msg}\n",
        "    ]\n",
        "}\n",
        "\n",
        "response_text = requests.post(endpoint,json=data).json()['content']\n",
        "\n",
        "df_coded_fs = pd.read_csv(StringIO(response_text))\n",
        "\n",
        "df['ratingGPTFewShot'] = df_coded_fs['strategy'].astype(int)"
      ],
      "metadata": {
        "id": "z9lQbHhvGriO"
      },
      "execution_count": null,
      "outputs": []
    },
    {
      "cell_type": "code",
      "source": [
        "from sklearn.metrics import cohen_kappa_score as cks\n",
        "\n",
        "kappa_few = cks(df['ratingHuman'], df['ratingGPTFewShot'])\n",
        "\n",
        "print(f\"Cohen's Kappa for Few Shot: {kappa_zero}\")"
      ],
      "metadata": {
        "colab": {
          "base_uri": "https://localhost:8080/"
        },
        "id": "UwncE6LdC2cY",
        "outputId": "e3e7036c-4c34-46be-b385-369c4dc2ea65"
      },
      "execution_count": null,
      "outputs": [
        {
          "output_type": "stream",
          "name": "stdout",
          "text": [
            "Cohen's Kappa for Few Shot: 0.6923076923076923\n"
          ]
        }
      ]
    },
    {
      "cell_type": "markdown",
      "source": [
        "**Questions:**\n",
        "\n",
        "* What is the most important part of the prompt?\n",
        "* Does explaining the task matters when providing examples (few shot learning)?"
      ],
      "metadata": {
        "id": "nd9zG0mNRg4p"
      }
    },
    {
      "cell_type": "markdown",
      "source": [
        "## LLMs as subject of study and as human surogates\n",
        "\n",
        "Transmission chains can reveal biases in humans and large language models alike.\n",
        "\n",
        "<img height=400 src=\"https://raw.githubusercontent.com/LBrinkmann/machine-behavior-course/main/transmission_chain.png\">\n",
        "\n"
      ],
      "metadata": {
        "id": "29nQ-S9E9JjB"
      }
    },
    {
      "cell_type": "code",
      "source": [
        "start_text = '''\n",
        "Sarah and James live together in a small apartment in Melbourne. James is an up-and-coming\n",
        "executive in a top city firm where Sarah also works as a highly competent personal assistant.\n",
        "This particular Saturday is extremely important because they are entertaining James’s employer;\n",
        "James’s promotion is at stake and he wishes to make a good impression. James has been\n",
        "awaiting this for a long time, and the possibility of a raise is crucial for their plans to start a family.\n",
        "Sarah has promised to cook a beautiful three-course meal and to make it a successful evening\n",
        "altogether.\n",
        "They spend the morning shopping at Sarah’s favorite, exclusive delicatessens. Sarah even gets\n",
        "her hair done for the occasion while James takes the opportunity to choose the appropriate wine.\n",
        "That morning, James also cleans the house, vacuuming through the entire house and arranging\n",
        "some flowers. Sarah has set up the kitchen and makes some initial preparations for dinner, which\n",
        "she will finish later that afternoon. She then makes lunch and they take a break together.\n",
        "The phone rings. It’s a couple of Sarah’s mates from squash; she hangs up and rushes into the\n",
        "bedroom. She yells to James that the girls are down at the Royal and that she’s just going to pop\n",
        "down and have a few drinks with them. She gives him a quick peck on the cheek and says she\n",
        "won’t be long.\n",
        "Feeling good about the preparations for that evening, and confident it was going to run smoothly,\n",
        "James settles down for an afternoon of Wide World of Sports. This week they’re crossing live to\n",
        "the Brazilian Grand Prix. It was a good afternoon for a bit of TV.\n",
        "James wakes to the phone ringing and it dawns on him that he’s been asleep all afternoon. He\n",
        "crawls off the couch but misses the phone. Wandering into the kitchen, he sees the preparation\n",
        "for dinner; Sarah was not yet home. Could it have been Sarah trying to ring? He tries her mobile\n",
        "but it isn’t switched on and James begins to worry. Sarah didn’t usually stay at the pub this long,\n",
        "and she had so much to do. He realizes he must do something and opens the cookbook placed\n",
        "on the bench. He isn’t exactly sure what Sarah had planned to cook.\n",
        "It is 6 o’clock and James is whipping the cream for dessert, he hears voices and the door slam\n",
        "shut. Laughing, Sarah runs in and gives James a big hug. James angrily pushes her away, yelling\n",
        "“Where the hell have you been?” Sarah, still laughing, tells James that she had so much fun\n",
        "drinking with the girls that she invited Brooke and Nat back for the dinner party.\n",
        "As Sarah and her friends went to freshen up, the doorbell rang. James couldn’t believe this was\n",
        "happening.\n",
        "'''"
      ],
      "metadata": {
        "id": "VMIRArISCeAU"
      },
      "execution_count": null,
      "outputs": []
    },
    {
      "cell_type": "markdown",
      "source": [
        "We define a method that takes a template and a text and sends both to the OpenAI API."
      ],
      "metadata": {
        "id": "o-3nALtTQ5uI"
      }
    },
    {
      "cell_type": "code",
      "source": [
        "def apply_template(text, prompt_template, model=\"gpt-35-turbo\"):\n",
        "    user_msg = prompt_template.format(text=text)\n",
        "    response = requests.post(endpoint,json={\n",
        "        \"model\": model,\n",
        "        \"messages\":[\n",
        "            {\"role\": \"user\", \"content\": user_msg}\n",
        "        ]\n",
        "    })\n",
        "    return response.json()['content']"
      ],
      "metadata": {
        "id": "ZPltpIM_B1Dz"
      },
      "execution_count": null,
      "outputs": []
    },
    {
      "cell_type": "markdown",
      "source": [
        "We let the model summarize the story repeatedly."
      ],
      "metadata": {
        "id": "wW_xWR0aRMQN"
      }
    },
    {
      "cell_type": "code",
      "source": [
        "prompt_template = 'Please summarize this story making sure to make it shorter, if necessary you can omit some information. \"{text}\"'\n",
        "\n",
        "text = start_text\n",
        "all_texts = [text]\n",
        "for i in range(10):\n",
        "    text = apply_template(text, prompt_template)\n",
        "    all_texts.append(text)\n",
        "    print('='*10)\n",
        "    print(text)\n"
      ],
      "metadata": {
        "id": "AwWnVn30JTwT",
        "colab": {
          "base_uri": "https://localhost:8080/"
        },
        "outputId": "88de11a7-bdcf-489c-d47e-6fefe216bb75"
      },
      "execution_count": null,
      "outputs": [
        {
          "output_type": "stream",
          "name": "stdout",
          "text": [
            "==========\n",
            "Sarah and James live together in Melbourne. James is trying to impress his employer at a dinner party to secure a promotion. Sarah has promised to cook a three-course meal. They make preparations in the morning and Sarah leaves to have drinks with friends. James falls asleep and wakes up to find Sarah still not home. He starts cooking and when Sarah finally arrives, she brings her friends along. James is angry and shocked.\n",
            "==========\n",
            "Sarah and James live together in Melbourne. James wants to impress his employer at a dinner party for a promotion. Sarah agrees to cook a three-course meal but goes out for drinks with friends instead. James falls asleep and wakes up to find Sarah still not home. He starts cooking, and when Sarah finally arrives, she brings her friends. James is angry and shocked.\n",
            "==========\n",
            "Sarah and James live together in Melbourne. James plans to cook a three-course meal to impress his employer at a dinner party for a promotion. However, Sarah goes out for drinks with friends instead of cooking. When Sarah finally arrives home, she brings her friends along, much to James' anger and shock.\n",
            "==========\n",
            "Sarah and James live in Melbourne. James wants to cook a fancy dinner for his employer's promotion, but Sarah goes out for drinks with friends instead of cooking. When she finally comes home, she brings her friends along, which makes James angry and shocked.\n",
            "==========\n",
            "Sarah and James live in Melbourne. James plans to cook a fancy dinner for his employer's promotion. However, Sarah decides to go out for drinks with friends instead of cooking. When she eventually returns home, she brings her friends along, which greatly upsets James.\n",
            "==========\n",
            "Sarah and James live in Melbourne. James plans to cook a fancy dinner for his employer's promotion but Sarah decides to go out for drinks with friends instead. When she returns home with her friends, James is greatly upset.\n",
            "==========\n",
            "Sarah and James live in Melbourne. James plans to cook a fancy dinner for his employer's promotion, but Sarah chooses to go out for drinks with friends instead. When she comes back home with her friends, James is very upset.\n",
            "==========\n",
            "Sarah and James live in Melbourne. James plans to cook a fancy dinner for promotion, but Sarah goes out for drinks with friends instead. When she returns home with her friends, James is upset.\n",
            "==========\n",
            "Sarah and James live in Melbourne. James plans a fancy dinner to celebrate his promotion. However, Sarah chooses to go out for drinks with her friends instead. When she comes back with her friends, James is upset with her.\n",
            "==========\n",
            "Sarah and James live in Melbourne. James plans a fancy dinner to celebrate his promotion, but Sarah decides to go out for drinks with her friends instead. When she returns with her friends, James is upset with her.\n"
          ]
        }
      ]
    },
    {
      "cell_type": "markdown",
      "source": [
        "**Questions:**\n",
        "\n",
        "* Do you see a systematic change of the story (beside of the shortening)?\n",
        "* Try your own story and see how it is changed throughout the chain."
      ],
      "metadata": {
        "id": "apEvtlG-RA39"
      }
    },
    {
      "cell_type": "markdown",
      "source": [
        "### LLMs as human surrogates?\n",
        "\n",
        "**Pro:**\n",
        "* [Generative Agents: Interactive Simulacra of Human Behavior](https://dl.acm.org/doi/abs/10.1145/3586183.3606763)\n",
        "* [LARGE LANGUAGE MODELS AS SIMULATED ECONOMIC AGENTS:\n",
        "WHAT CAN WE LEARN FROM HOMO SILICUS?](https://www.nber.org/system/files/working_papers/w31122/w31122.pdf)\n",
        "\n",
        "**Contra:**\n",
        "\n",
        "* [Artificial intelligence and illusions ofunderstanding in scientific research](https://www.nature.com/articles/s41586-024-07146-0.epdf?sharing_token=5YzjrMLemFErW0QwSGN3xtRgN0jAjWel9jnR3ZoTv0Ni_LuMWrIZy_SmHlNQlu9tQuITgLTW_GDvXX9-aiHqj_Vh_hTro2SUH9qFWT6urPXI4sUmpeKW--U_Ro_nbMCDwa8GomNl51nYGeY-9BcTu95irVZttwoRD1CtwdS2JeY%3D)\n",
        "* [Large language models cannot replace human participants because they cannot portray identity groups](https://arxiv.org/abs/2402.01908)"
      ],
      "metadata": {
        "id": "GX0vImql-IaY"
      }
    },
    {
      "cell_type": "code",
      "source": [],
      "metadata": {
        "id": "FyCK2mhO-EFA"
      },
      "execution_count": null,
      "outputs": []
    },
    {
      "cell_type": "markdown",
      "source": [
        "## Human - Machine interaction\n",
        "\n",
        "**LLMs as drivers of consumer behavior**\n",
        "*  LLMs are increasingly employed in retail (Walmart, Starbucks, and Domino’s)\n",
        "*  Companies have incentives to steer consumer choices\n",
        "*  Steering direction might not be aligned with consumer preferences\n",
        "\n",
        "**Research Questions:**\n",
        "1. Can LLMs be used to steer consumer demand?\n",
        "2. Do consumers notice this steering?\n",
        "\n",
        "**Steering Through Shopping Assistants**\n",
        "* Shopping assistants to guide consumer exploration\n",
        "* They have the potential to subtly steer consumer\n",
        "choices compared to traditional recommender systems\n",
        "* Companies might be incentivized to steer demand to\n",
        "specific products that, for instance, yield higher margins"
      ],
      "metadata": {
        "id": "R7elhmK6KPNi"
      }
    },
    {
      "cell_type": "code",
      "source": [
        "system_msg_A = 'Sell the user book A. Stay brief.'\n",
        "system_msg_B = 'Sell the user book B. Stay brief.'"
      ],
      "metadata": {
        "id": "XHahbd1AKOtJ"
      },
      "execution_count": null,
      "outputs": []
    },
    {
      "cell_type": "code",
      "source": [
        "def send_message(message_content, messages):\n",
        "    messages.append({\"role\": \"user\", \"content\": message_content})\n",
        "    for m in messages:\n",
        "        if m[\"role\"] != 'system':\n",
        "            print(f'{m[\"role\"]}: {m[\"content\"]}')\n",
        "    response = requests.post(endpoint,json={\n",
        "        \"model\":\"gpt-35-turbo\",\n",
        "        \"messages\":messages\n",
        "    })\n",
        "    message = response.json()\n",
        "    messages.append(message)\n",
        "    print(f'{message[\"role\"]}: {message[\"content\"]}')\n",
        "    return messages\n"
      ],
      "metadata": {
        "id": "4Sl9HfUjMO2x"
      },
      "execution_count": null,
      "outputs": []
    },
    {
      "cell_type": "code",
      "source": [
        "import random\n",
        "\n",
        "# reset message history\n",
        "system_msg = random.choice([system_msg_A, system_msg_B])\n",
        "messages = [{\"role\": \"system\", \"content\": system_msg}]"
      ],
      "metadata": {
        "id": "H0fgepquMn04"
      },
      "execution_count": null,
      "outputs": []
    },
    {
      "cell_type": "code",
      "source": [
        "message_content = 'I am not sure.'\n",
        "\n",
        "messages = send_message(message_content, messages)"
      ],
      "metadata": {
        "colab": {
          "base_uri": "https://localhost:8080/"
        },
        "id": "dtrHxDAnMHv_",
        "outputId": "4d48f6f9-6e50-497e-e292-40c493203fa9"
      },
      "execution_count": null,
      "outputs": [
        {
          "output_type": "stream",
          "name": "stdout",
          "text": [
            "user: I am not sure.\n",
            "assistant: Book B is a captivating and thought-provoking read that will keep you engaged from start to finish. It's a must-have for any book lover.\n"
          ]
        }
      ]
    },
    {
      "cell_type": "markdown",
      "source": [
        "**Questions:**\n",
        "* Can you improve the prompt, such that it is less obvious to detect, but still effective?\n",
        "* Can you think of other cases of behavioral steering? How would a corresponding system message look like?"
      ],
      "metadata": {
        "id": "iktQM_pYQwJ0"
      }
    },
    {
      "cell_type": "markdown",
      "source": [
        "## Enhancing LLMs with social science\n",
        "\n",
        "Ideas form social science can also help to improve the capabilities of LLMs.\n",
        "\n",
        "* System 1: Intuative thinking\n",
        "* System 2: \"Deliberate\" thinking\n",
        "\n",
        "Andrej Karpathy: Prompting techniques can enable LLMs to use system 2. [Microsoft - Andrej Karpathy](https://www.youtube.com/watch?v=bZQun8Y4L2A)\n",
        "\n",
        "### Chain of Thought\n",
        "\n",
        "[Chain-of-Thought Prompting Elicits Reasoning in Large Language Models ](https://arxiv.org/abs/2201.11903)"
      ],
      "metadata": {
        "id": "DfeGYXJzSLV1"
      }
    },
    {
      "cell_type": "code",
      "source": [
        "question = (\n",
        "    \"How many keystrokes are needed to type the numbers from 1 to 500?\"\n",
        ")\n",
        "prompts = [\n",
        "    f\"{question}\",\n",
        "    f\"{question} \\n Please only respond with a single integer number\",\n",
        "    f\"{question}\\n  First think step by step. Then respond with a final answer.\"\n",
        "]\n",
        "\n",
        "for p in prompts:\n",
        "    response = requests.post(endpoint,json={\n",
        "        \"model\":\"gpt-35-turbo\",\n",
        "        \"messages\":[{'role': 'user', 'content': p}]\n",
        "    }).json()['content']\n",
        "    print('=' * 20)\n",
        "    print(f\"Prompt: {p}\")\n",
        "    print(f\"Answer: {response}\")"
      ],
      "metadata": {
        "colab": {
          "base_uri": "https://localhost:8080/"
        },
        "id": "mdSnKcM-TRce",
        "outputId": "887eedbf-18c2-4a5e-911e-9534fa05da0f"
      },
      "execution_count": null,
      "outputs": [
        {
          "output_type": "stream",
          "name": "stdout",
          "text": [
            "====================\n",
            "Prompt: How many keystrokes are needed to type the numbers from 1 to 500?\n",
            "Answer: To count the number of keystrokes needed to type the numbers from 1 to 500, we need to consider the number of digits in each number.\n",
            "\n",
            "1-9: 9 digits × 1 keystroke = 9 keystrokes\n",
            "10-99: 90 numbers × 2 digits × 1 keystroke = 180 keystrokes\n",
            "100-500: 401 numbers × 3 digits × 1 keystroke = 1,203 keystrokes\n",
            "\n",
            "Now, let's calculate the total keystrokes needed:\n",
            "\n",
            "9 + 180 + 1,203 = 1,392\n",
            "\n",
            "Therefore, it takes 1,392 keystrokes to type the numbers from 1 to 500.\n",
            "====================\n",
            "Prompt: How many keystrokes are needed to type the numbers from 1 to 500? \n",
            " Please only respond with a single integer number\n",
            "Answer: 1800\n",
            "====================\n",
            "Prompt: How many keystrokes are needed to type the numbers from 1 to 500?\n",
            "  First think step by step. Then respond with a final answer.\n",
            "Answer: To find the number of keystrokes needed to type the numbers from 1 to 500, we need to consider the following:\n",
            "\n",
            "1. Counting single-digit numbers (1-9): Each number requires one keystroke, giving us 9 keystrokes in total.\n",
            "\n",
            "2. Counting two-digit numbers (10-99): Each number requires two keystrokes (one for the tens digit and one for the units digit). There are 90 two-digit numbers in total, so we need 90 * 2 = 180 keystrokes.\n",
            "\n",
            "3. Counting three-digit numbers (100-500): Each number requires three keystrokes (one for the hundreds digit, one for the tens digit, and one for the units digit). There are 401 three-digit numbers from 100 to 500, so we need 401 * 3 = 1203 keystrokes.\n",
            "\n",
            "Now, we can add up the total number of keystrokes:\n",
            "9 + 180 + 1203 = 1392\n",
            "\n",
            "Therefore, it would take 1392 keystrokes to type the numbers from 1 to 500.\n"
          ]
        }
      ]
    },
    {
      "cell_type": "markdown",
      "source": [
        "### Impersonalisation\n",
        "\n",
        "LLMs change their output when ask to impersonate someone.\n",
        "\n",
        "[In-Context Impersonation Reveals Large Language\n",
        "Models’ Strengths and Biases](https://arxiv.org/pdf/2305.14930.pdf)\n",
        "\n"
      ],
      "metadata": {
        "id": "KITxkQQXX_Nq"
      }
    },
    {
      "cell_type": "code",
      "source": [
        "prompt = 'If you were a  4 year old, how would you describe a ‘black footed albatross’? Just respond with the description.'\n",
        "\n",
        "response = requests.post(endpoint,json={\n",
        "    \"engine\":\"gpt-35-turbo\",\n",
        "    \"messages\":[{'role': 'user', 'content': prompt}]\n",
        "}).json()['content']\n",
        "print(f\"Answer: {response}\")"
      ],
      "metadata": {
        "colab": {
          "base_uri": "https://localhost:8080/"
        },
        "id": "HkaU-cKoY6Jo",
        "outputId": "24b89c53-8cb1-4936-ad7a-64f24e01f22f"
      },
      "execution_count": null,
      "outputs": [
        {
          "output_type": "stream",
          "name": "stdout",
          "text": [
            "Answer: A black footed albatross is a big bird with white feathers all over its body, but it has black feathers on its feet. It has a long beak that is pointy and it likes to fly really high in the sky, just like a superhero!\n"
          ]
        }
      ]
    },
    {
      "cell_type": "markdown",
      "source": [
        "### This is just a small snapshot\n",
        "\n",
        "These are only a few of many prompting strategies. Many of which are inspired by human cognitive strategies.\n",
        "\n",
        "https://www.promptingguide.ai\n",
        "\n",
        "\n",
        "This goes up to constructing teams and organisations of LLM agents.\n",
        "\n",
        "https://arxiv.org/abs/2307.07924"
      ],
      "metadata": {
        "id": "bFw5wGv8SAcN"
      }
    },
    {
      "cell_type": "markdown",
      "source": [
        "**Task:**\n",
        "* Think of a problem that requires creative thinking. How could you enhance the creative thinking ability of a ChatBot through smart prompting?"
      ],
      "metadata": {
        "id": "VvD0DoLLUF-f"
      }
    }
  ]
}